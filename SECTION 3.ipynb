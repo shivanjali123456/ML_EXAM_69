{
 "cells": [
  {
   "cell_type": "markdown",
   "id": "b953f3c4",
   "metadata": {},
   "source": [
    "# CASE STUDY\n",
    "    Problem Statement: Develop a predictive model to estimate the price of a vehicle based on the provided features."
   ]
  },
  {
   "cell_type": "markdown",
   "id": "4b917e68",
   "metadata": {},
   "source": [
    "# Data Cleaning & Preprocessing:\n",
    "    Handle missing values appropriately.\n",
    "    Encode categorical variables.\n",
    "    Normalize/standardize numerical features if necessary."
   ]
  },
  {
   "cell_type": "code",
   "execution_count": 22,
   "id": "0adb1d2a",
   "metadata": {},
   "outputs": [],
   "source": [
    "import pandas as pd\n",
    "import numpy as np\n",
    "import matplotlib.pyplot as plt\n",
    "import seaborn as sns\n",
    "from sklearn.impute import SimpleImputer\n",
    "from sklearn.preprocessing import LabelEncoder\n",
    "from sklearn import metrics\n",
    "from sklearn.preprocessing import PolynomialFeatures\n",
    "from sklearn.linear_model import Lasso"
   ]
  },
  {
   "cell_type": "code",
   "execution_count": 23,
   "id": "8051e56b",
   "metadata": {},
   "outputs": [],
   "source": [
    "#Load Dataset\n",
    "df=pd.read_csv('C://Users/DELL/Desktop/vehicles.csv')"
   ]
  },
  {
   "cell_type": "code",
   "execution_count": 24,
   "id": "5ceae650",
   "metadata": {},
   "outputs": [
    {
     "data": {
      "text/html": [
       "<div>\n",
       "<style scoped>\n",
       "    .dataframe tbody tr th:only-of-type {\n",
       "        vertical-align: middle;\n",
       "    }\n",
       "\n",
       "    .dataframe tbody tr th {\n",
       "        vertical-align: top;\n",
       "    }\n",
       "\n",
       "    .dataframe thead th {\n",
       "        text-align: right;\n",
       "    }\n",
       "</style>\n",
       "<table border=\"1\" class=\"dataframe\">\n",
       "  <thead>\n",
       "    <tr style=\"text-align: right;\">\n",
       "      <th></th>\n",
       "      <th>ad_title</th>\n",
       "      <th>ad_description</th>\n",
       "      <th>details</th>\n",
       "      <th>slug</th>\n",
       "      <th>title</th>\n",
       "      <th>type</th>\n",
       "      <th>price</th>\n",
       "      <th>timestamp</th>\n",
       "      <th>posted_date</th>\n",
       "      <th>deactivation_date</th>\n",
       "      <th>...</th>\n",
       "      <th>is_doorstep_delivery</th>\n",
       "      <th>is_dsd_applicable</th>\n",
       "      <th>is_member</th>\n",
       "      <th>is_authorized_dealer</th>\n",
       "      <th>is_featured_member</th>\n",
       "      <th>is_verified</th>\n",
       "      <th>membership_level</th>\n",
       "      <th>member_since</th>\n",
       "      <th>properties</th>\n",
       "      <th>user</th>\n",
       "    </tr>\n",
       "  </thead>\n",
       "  <tbody>\n",
       "    <tr>\n",
       "      <th>0</th>\n",
       "      <td>Nissan Tiida Alternator  in Maharagama | ikman</td>\n",
       "      <td>**TISSA AUTO PARTS** Dealer of used Japanese m...</td>\n",
       "      <td>NaN</td>\n",
       "      <td>nissan-tiida-alternator-for-sale-colombo-3</td>\n",
       "      <td>Nissan Tiida Alternator</td>\n",
       "      <td>for_sale</td>\n",
       "      <td>Rs 18,000</td>\n",
       "      <td>23 Feb 11:35 pm</td>\n",
       "      <td>2023-02-23T23:35:10+05:30</td>\n",
       "      <td>2022-05-30T17:13:04.000Z</td>\n",
       "      <td>...</td>\n",
       "      <td>False</td>\n",
       "      <td>False</td>\n",
       "      <td>True</td>\n",
       "      <td>False</td>\n",
       "      <td>False</td>\n",
       "      <td>True</td>\n",
       "      <td>premium</td>\n",
       "      <td>September 2019</td>\n",
       "      <td>{'Condition': 'Reconditioned', 'Part or Access...</td>\n",
       "      <td>a6681dea494390daa516a6d2bdcb36e08c318574a13413...</td>\n",
       "    </tr>\n",
       "    <tr>\n",
       "      <th>1</th>\n",
       "      <td>Axio 165 Tail Light  in Kotte | ikman</td>\n",
       "      <td>Imported from Japan \\n\\nRight side available \\...</td>\n",
       "      <td>NaN</td>\n",
       "      <td>axio-165-tail-light-for-sale-colombo-14</td>\n",
       "      <td>Axio 165 Tail Light</td>\n",
       "      <td>for_sale</td>\n",
       "      <td>Rs 67,000</td>\n",
       "      <td>23 Feb 8:32 am</td>\n",
       "      <td>2023-02-23T08:32:44+05:30</td>\n",
       "      <td>2022-03-31T16:27:59.000Z</td>\n",
       "      <td>...</td>\n",
       "      <td>False</td>\n",
       "      <td>False</td>\n",
       "      <td>True</td>\n",
       "      <td>False</td>\n",
       "      <td>False</td>\n",
       "      <td>True</td>\n",
       "      <td>plus</td>\n",
       "      <td>June 2018</td>\n",
       "      <td>{'Condition': 'Reconditioned', 'Part or Access...</td>\n",
       "      <td>5d99b8e45a1bb318079da7a36392d9025e1644cb49ecbf...</td>\n",
       "    </tr>\n",
       "    <tr>\n",
       "      <th>2</th>\n",
       "      <td>Axio 165 / 161 Head light  in Kotte | ikman.lk</td>\n",
       "      <td>Imported from Japan \\n\\nAuto focus headlight a...</td>\n",
       "      <td>NaN</td>\n",
       "      <td>axio-165-161-head-light-for-sale-colombo</td>\n",
       "      <td>Axio 165 / 161 Head light</td>\n",
       "      <td>for_sale</td>\n",
       "      <td>Rs 85,000</td>\n",
       "      <td>01 Dec 8:27 pm</td>\n",
       "      <td>2022-12-01T20:27:49+05:30</td>\n",
       "      <td>2022-03-31T14:03:57.000Z</td>\n",
       "      <td>...</td>\n",
       "      <td>False</td>\n",
       "      <td>False</td>\n",
       "      <td>True</td>\n",
       "      <td>False</td>\n",
       "      <td>False</td>\n",
       "      <td>True</td>\n",
       "      <td>plus</td>\n",
       "      <td>June 2018</td>\n",
       "      <td>{'Condition': 'Reconditioned', 'Part or Access...</td>\n",
       "      <td>5d99b8e45a1bb318079da7a36392d9025e1644cb49ecbf...</td>\n",
       "    </tr>\n",
       "    <tr>\n",
       "      <th>3</th>\n",
       "      <td>Vigo side step ( Foot board)  in Kottawa | ikman</td>\n",
       "      <td>Hilux Vigo side step\\nBrand New Thaiwan\\nGood ...</td>\n",
       "      <td>NaN</td>\n",
       "      <td>vigo-side-step-foot-board-for-sale-colombo</td>\n",
       "      <td>Vigo side step ( Foot board)</td>\n",
       "      <td>for_sale</td>\n",
       "      <td>Rs 47,000</td>\n",
       "      <td>04 Dec 2:47 pm</td>\n",
       "      <td>2022-12-04T14:47:27+05:30</td>\n",
       "      <td>2022-07-29T13:22:59.000Z</td>\n",
       "      <td>...</td>\n",
       "      <td>False</td>\n",
       "      <td>False</td>\n",
       "      <td>True</td>\n",
       "      <td>False</td>\n",
       "      <td>False</td>\n",
       "      <td>False</td>\n",
       "      <td>plus</td>\n",
       "      <td>February 2017</td>\n",
       "      <td>{'Condition': 'New', 'Part or Accessory Type':...</td>\n",
       "      <td>634d93e14a62d9de7b400ee3679ae1d5506f4252ff0580...</td>\n",
       "    </tr>\n",
       "    <tr>\n",
       "      <th>4</th>\n",
       "      <td>Vigo Dickey Door Garnish Cover  in Kottawa | i...</td>\n",
       "      <td>Hilux Vigo ( 2005, 2009 ) dickey door garnish set</td>\n",
       "      <td>NaN</td>\n",
       "      <td>vigo-dickey-door-garnish-cover-for-sale-colombo-1</td>\n",
       "      <td>Vigo Dickey Door Garnish Cover</td>\n",
       "      <td>for_sale</td>\n",
       "      <td>Rs 9,000</td>\n",
       "      <td>08 Dec 9:28 am</td>\n",
       "      <td>2022-12-08T09:28:04+05:30</td>\n",
       "      <td>2022-07-29T12:55:44.000Z</td>\n",
       "      <td>...</td>\n",
       "      <td>False</td>\n",
       "      <td>False</td>\n",
       "      <td>True</td>\n",
       "      <td>False</td>\n",
       "      <td>False</td>\n",
       "      <td>False</td>\n",
       "      <td>plus</td>\n",
       "      <td>February 2017</td>\n",
       "      <td>{'Condition': 'New', 'Part or Accessory Type':...</td>\n",
       "      <td>634d93e14a62d9de7b400ee3679ae1d5506f4252ff0580...</td>\n",
       "    </tr>\n",
       "  </tbody>\n",
       "</table>\n",
       "<p>5 rows × 26 columns</p>\n",
       "</div>"
      ],
      "text/plain": [
       "                                            ad_title  \\\n",
       "0     Nissan Tiida Alternator  in Maharagama | ikman   \n",
       "1              Axio 165 Tail Light  in Kotte | ikman   \n",
       "2     Axio 165 / 161 Head light  in Kotte | ikman.lk   \n",
       "3   Vigo side step ( Foot board)  in Kottawa | ikman   \n",
       "4  Vigo Dickey Door Garnish Cover  in Kottawa | i...   \n",
       "\n",
       "                                      ad_description details  \\\n",
       "0  **TISSA AUTO PARTS** Dealer of used Japanese m...     NaN   \n",
       "1  Imported from Japan \\n\\nRight side available \\...     NaN   \n",
       "2  Imported from Japan \\n\\nAuto focus headlight a...     NaN   \n",
       "3  Hilux Vigo side step\\nBrand New Thaiwan\\nGood ...     NaN   \n",
       "4  Hilux Vigo ( 2005, 2009 ) dickey door garnish set     NaN   \n",
       "\n",
       "                                                slug  \\\n",
       "0         nissan-tiida-alternator-for-sale-colombo-3   \n",
       "1            axio-165-tail-light-for-sale-colombo-14   \n",
       "2           axio-165-161-head-light-for-sale-colombo   \n",
       "3         vigo-side-step-foot-board-for-sale-colombo   \n",
       "4  vigo-dickey-door-garnish-cover-for-sale-colombo-1   \n",
       "\n",
       "                            title      type      price        timestamp  \\\n",
       "0         Nissan Tiida Alternator  for_sale  Rs 18,000  23 Feb 11:35 pm   \n",
       "1             Axio 165 Tail Light  for_sale  Rs 67,000   23 Feb 8:32 am   \n",
       "2       Axio 165 / 161 Head light  for_sale  Rs 85,000   01 Dec 8:27 pm   \n",
       "3    Vigo side step ( Foot board)  for_sale  Rs 47,000   04 Dec 2:47 pm   \n",
       "4  Vigo Dickey Door Garnish Cover  for_sale   Rs 9,000   08 Dec 9:28 am   \n",
       "\n",
       "                 posted_date         deactivation_date  ...  \\\n",
       "0  2023-02-23T23:35:10+05:30  2022-05-30T17:13:04.000Z  ...   \n",
       "1  2023-02-23T08:32:44+05:30  2022-03-31T16:27:59.000Z  ...   \n",
       "2  2022-12-01T20:27:49+05:30  2022-03-31T14:03:57.000Z  ...   \n",
       "3  2022-12-04T14:47:27+05:30  2022-07-29T13:22:59.000Z  ...   \n",
       "4  2022-12-08T09:28:04+05:30  2022-07-29T12:55:44.000Z  ...   \n",
       "\n",
       "  is_doorstep_delivery is_dsd_applicable is_member is_authorized_dealer  \\\n",
       "0                False             False      True                False   \n",
       "1                False             False      True                False   \n",
       "2                False             False      True                False   \n",
       "3                False             False      True                False   \n",
       "4                False             False      True                False   \n",
       "\n",
       "  is_featured_member  is_verified  membership_level    member_since  \\\n",
       "0              False         True           premium  September 2019   \n",
       "1              False         True              plus       June 2018   \n",
       "2              False         True              plus       June 2018   \n",
       "3              False        False              plus   February 2017   \n",
       "4              False        False              plus   February 2017   \n",
       "\n",
       "                                          properties  \\\n",
       "0  {'Condition': 'Reconditioned', 'Part or Access...   \n",
       "1  {'Condition': 'Reconditioned', 'Part or Access...   \n",
       "2  {'Condition': 'Reconditioned', 'Part or Access...   \n",
       "3  {'Condition': 'New', 'Part or Accessory Type':...   \n",
       "4  {'Condition': 'New', 'Part or Accessory Type':...   \n",
       "\n",
       "                                                user  \n",
       "0  a6681dea494390daa516a6d2bdcb36e08c318574a13413...  \n",
       "1  5d99b8e45a1bb318079da7a36392d9025e1644cb49ecbf...  \n",
       "2  5d99b8e45a1bb318079da7a36392d9025e1644cb49ecbf...  \n",
       "3  634d93e14a62d9de7b400ee3679ae1d5506f4252ff0580...  \n",
       "4  634d93e14a62d9de7b400ee3679ae1d5506f4252ff0580...  \n",
       "\n",
       "[5 rows x 26 columns]"
      ]
     },
     "execution_count": 24,
     "metadata": {},
     "output_type": "execute_result"
    }
   ],
   "source": [
    "df.head()"
   ]
  },
  {
   "cell_type": "code",
   "execution_count": 25,
   "id": "7a170609",
   "metadata": {},
   "outputs": [
    {
     "name": "stdout",
     "output_type": "stream",
     "text": [
      "<class 'pandas.core.frame.DataFrame'>\n",
      "RangeIndex: 258888 entries, 0 to 258887\n",
      "Data columns (total 26 columns):\n",
      " #   Column                Non-Null Count   Dtype \n",
      "---  ------                --------------   ----- \n",
      " 0   ad_title              258888 non-null  object\n",
      " 1   ad_description        258881 non-null  object\n",
      " 2   details               155505 non-null  object\n",
      " 3   slug                  258888 non-null  object\n",
      " 4   title                 258888 non-null  object\n",
      " 5   type                  258888 non-null  object\n",
      " 6   price                 255077 non-null  object\n",
      " 7   timestamp             258882 non-null  object\n",
      " 8   posted_date           258882 non-null  object\n",
      " 9   deactivation_date     258882 non-null  object\n",
      " 10  category              258888 non-null  object\n",
      " 11  parent_category       258888 non-null  object\n",
      " 12  location              258888 non-null  object\n",
      " 13  geo_region            258888 non-null  object\n",
      " 14  area                  258888 non-null  object\n",
      " 15  is_delivery_free      258888 non-null  bool  \n",
      " 16  is_doorstep_delivery  258888 non-null  bool  \n",
      " 17  is_dsd_applicable     258888 non-null  bool  \n",
      " 18  is_member             249838 non-null  object\n",
      " 19  is_authorized_dealer  249838 non-null  object\n",
      " 20  is_featured_member    249838 non-null  object\n",
      " 21  is_verified           258888 non-null  bool  \n",
      " 22  membership_level      258888 non-null  object\n",
      " 23  member_since          108634 non-null  object\n",
      " 24  properties            258888 non-null  object\n",
      " 25  user                  258888 non-null  object\n",
      "dtypes: bool(4), object(22)\n",
      "memory usage: 44.4+ MB\n"
     ]
    }
   ],
   "source": [
    "df.info()"
   ]
  },
  {
   "cell_type": "code",
   "execution_count": 26,
   "id": "71d768bd",
   "metadata": {},
   "outputs": [
    {
     "data": {
      "text/plain": [
       "(258888, 26)"
      ]
     },
     "execution_count": 26,
     "metadata": {},
     "output_type": "execute_result"
    }
   ],
   "source": [
    "df.shape"
   ]
  },
  {
   "cell_type": "code",
   "execution_count": 27,
   "id": "1930e515",
   "metadata": {},
   "outputs": [
    {
     "data": {
      "text/html": [
       "<div>\n",
       "<style scoped>\n",
       "    .dataframe tbody tr th:only-of-type {\n",
       "        vertical-align: middle;\n",
       "    }\n",
       "\n",
       "    .dataframe tbody tr th {\n",
       "        vertical-align: top;\n",
       "    }\n",
       "\n",
       "    .dataframe thead th {\n",
       "        text-align: right;\n",
       "    }\n",
       "</style>\n",
       "<table border=\"1\" class=\"dataframe\">\n",
       "  <thead>\n",
       "    <tr style=\"text-align: right;\">\n",
       "      <th></th>\n",
       "      <th>ad_title</th>\n",
       "      <th>ad_description</th>\n",
       "      <th>details</th>\n",
       "      <th>slug</th>\n",
       "      <th>title</th>\n",
       "      <th>type</th>\n",
       "      <th>price</th>\n",
       "      <th>timestamp</th>\n",
       "      <th>posted_date</th>\n",
       "      <th>deactivation_date</th>\n",
       "      <th>category</th>\n",
       "      <th>parent_category</th>\n",
       "      <th>location</th>\n",
       "      <th>geo_region</th>\n",
       "      <th>area</th>\n",
       "      <th>is_delivery_free</th>\n",
       "      <th>is_doorstep_delivery</th>\n",
       "      <th>is_dsd_applicable</th>\n",
       "      <th>is_member</th>\n",
       "      <th>is_authorized_dealer</th>\n",
       "      <th>is_featured_member</th>\n",
       "      <th>is_verified</th>\n",
       "      <th>membership_level</th>\n",
       "      <th>member_since</th>\n",
       "      <th>properties</th>\n",
       "      <th>user</th>\n",
       "    </tr>\n",
       "  </thead>\n",
       "  <tbody>\n",
       "    <tr>\n",
       "      <th>0</th>\n",
       "      <td>Nissan Tiida Alternator  in Maharagama | ikman</td>\n",
       "      <td>**TISSA AUTO PARTS** Dealer of used Japanese m...</td>\n",
       "      <td>NaN</td>\n",
       "      <td>nissan-tiida-alternator-for-sale-colombo-3</td>\n",
       "      <td>Nissan Tiida Alternator</td>\n",
       "      <td>for_sale</td>\n",
       "      <td>Rs 18,000</td>\n",
       "      <td>23 Feb 11:35 pm</td>\n",
       "      <td>2023-02-23T23:35:10+05:30</td>\n",
       "      <td>2022-05-30T17:13:04.000Z</td>\n",
       "      <td>Auto Parts &amp; Accessories</td>\n",
       "      <td>Vehicles</td>\n",
       "      <td>Maharagama</td>\n",
       "      <td>LK-11</td>\n",
       "      <td>{'id': 1506, 'name': 'Colombo'}</td>\n",
       "      <td>False</td>\n",
       "      <td>False</td>\n",
       "      <td>False</td>\n",
       "      <td>True</td>\n",
       "      <td>False</td>\n",
       "      <td>False</td>\n",
       "      <td>True</td>\n",
       "      <td>premium</td>\n",
       "      <td>September 2019</td>\n",
       "      <td>{'Condition': 'Reconditioned', 'Part or Access...</td>\n",
       "      <td>a6681dea494390daa516a6d2bdcb36e08c318574a13413...</td>\n",
       "    </tr>\n",
       "    <tr>\n",
       "      <th>1</th>\n",
       "      <td>Axio 165 Tail Light  in Kotte | ikman</td>\n",
       "      <td>Imported from Japan \\n\\nRight side available \\...</td>\n",
       "      <td>NaN</td>\n",
       "      <td>axio-165-tail-light-for-sale-colombo-14</td>\n",
       "      <td>Axio 165 Tail Light</td>\n",
       "      <td>for_sale</td>\n",
       "      <td>Rs 67,000</td>\n",
       "      <td>23 Feb 8:32 am</td>\n",
       "      <td>2023-02-23T08:32:44+05:30</td>\n",
       "      <td>2022-03-31T16:27:59.000Z</td>\n",
       "      <td>Auto Parts &amp; Accessories</td>\n",
       "      <td>Vehicles</td>\n",
       "      <td>Kotte</td>\n",
       "      <td>LK-11</td>\n",
       "      <td>{'id': 1506, 'name': 'Colombo'}</td>\n",
       "      <td>False</td>\n",
       "      <td>False</td>\n",
       "      <td>False</td>\n",
       "      <td>True</td>\n",
       "      <td>False</td>\n",
       "      <td>False</td>\n",
       "      <td>True</td>\n",
       "      <td>plus</td>\n",
       "      <td>June 2018</td>\n",
       "      <td>{'Condition': 'Reconditioned', 'Part or Access...</td>\n",
       "      <td>5d99b8e45a1bb318079da7a36392d9025e1644cb49ecbf...</td>\n",
       "    </tr>\n",
       "    <tr>\n",
       "      <th>2</th>\n",
       "      <td>Axio 165 / 161 Head light  in Kotte | ikman.lk</td>\n",
       "      <td>Imported from Japan \\n\\nAuto focus headlight a...</td>\n",
       "      <td>NaN</td>\n",
       "      <td>axio-165-161-head-light-for-sale-colombo</td>\n",
       "      <td>Axio 165 / 161 Head light</td>\n",
       "      <td>for_sale</td>\n",
       "      <td>Rs 85,000</td>\n",
       "      <td>01 Dec 8:27 pm</td>\n",
       "      <td>2022-12-01T20:27:49+05:30</td>\n",
       "      <td>2022-03-31T14:03:57.000Z</td>\n",
       "      <td>Auto Parts &amp; Accessories</td>\n",
       "      <td>Vehicles</td>\n",
       "      <td>Kotte</td>\n",
       "      <td>LK-11</td>\n",
       "      <td>{'id': 1506, 'name': 'Colombo'}</td>\n",
       "      <td>False</td>\n",
       "      <td>False</td>\n",
       "      <td>False</td>\n",
       "      <td>True</td>\n",
       "      <td>False</td>\n",
       "      <td>False</td>\n",
       "      <td>True</td>\n",
       "      <td>plus</td>\n",
       "      <td>June 2018</td>\n",
       "      <td>{'Condition': 'Reconditioned', 'Part or Access...</td>\n",
       "      <td>5d99b8e45a1bb318079da7a36392d9025e1644cb49ecbf...</td>\n",
       "    </tr>\n",
       "    <tr>\n",
       "      <th>3</th>\n",
       "      <td>Vigo side step ( Foot board)  in Kottawa | ikman</td>\n",
       "      <td>Hilux Vigo side step\\nBrand New Thaiwan\\nGood ...</td>\n",
       "      <td>NaN</td>\n",
       "      <td>vigo-side-step-foot-board-for-sale-colombo</td>\n",
       "      <td>Vigo side step ( Foot board)</td>\n",
       "      <td>for_sale</td>\n",
       "      <td>Rs 47,000</td>\n",
       "      <td>04 Dec 2:47 pm</td>\n",
       "      <td>2022-12-04T14:47:27+05:30</td>\n",
       "      <td>2022-07-29T13:22:59.000Z</td>\n",
       "      <td>Auto Parts &amp; Accessories</td>\n",
       "      <td>Vehicles</td>\n",
       "      <td>Kottawa</td>\n",
       "      <td>LK-11</td>\n",
       "      <td>{'id': 1506, 'name': 'Colombo'}</td>\n",
       "      <td>False</td>\n",
       "      <td>False</td>\n",
       "      <td>False</td>\n",
       "      <td>True</td>\n",
       "      <td>False</td>\n",
       "      <td>False</td>\n",
       "      <td>False</td>\n",
       "      <td>plus</td>\n",
       "      <td>February 2017</td>\n",
       "      <td>{'Condition': 'New', 'Part or Accessory Type':...</td>\n",
       "      <td>634d93e14a62d9de7b400ee3679ae1d5506f4252ff0580...</td>\n",
       "    </tr>\n",
       "    <tr>\n",
       "      <th>4</th>\n",
       "      <td>Vigo Dickey Door Garnish Cover  in Kottawa | i...</td>\n",
       "      <td>Hilux Vigo ( 2005, 2009 ) dickey door garnish set</td>\n",
       "      <td>NaN</td>\n",
       "      <td>vigo-dickey-door-garnish-cover-for-sale-colombo-1</td>\n",
       "      <td>Vigo Dickey Door Garnish Cover</td>\n",
       "      <td>for_sale</td>\n",
       "      <td>Rs 9,000</td>\n",
       "      <td>08 Dec 9:28 am</td>\n",
       "      <td>2022-12-08T09:28:04+05:30</td>\n",
       "      <td>2022-07-29T12:55:44.000Z</td>\n",
       "      <td>Auto Parts &amp; Accessories</td>\n",
       "      <td>Vehicles</td>\n",
       "      <td>Kottawa</td>\n",
       "      <td>LK-11</td>\n",
       "      <td>{'id': 1506, 'name': 'Colombo'}</td>\n",
       "      <td>False</td>\n",
       "      <td>False</td>\n",
       "      <td>False</td>\n",
       "      <td>True</td>\n",
       "      <td>False</td>\n",
       "      <td>False</td>\n",
       "      <td>False</td>\n",
       "      <td>plus</td>\n",
       "      <td>February 2017</td>\n",
       "      <td>{'Condition': 'New', 'Part or Accessory Type':...</td>\n",
       "      <td>634d93e14a62d9de7b400ee3679ae1d5506f4252ff0580...</td>\n",
       "    </tr>\n",
       "  </tbody>\n",
       "</table>\n",
       "</div>"
      ],
      "text/plain": [
       "                                            ad_title  \\\n",
       "0     Nissan Tiida Alternator  in Maharagama | ikman   \n",
       "1              Axio 165 Tail Light  in Kotte | ikman   \n",
       "2     Axio 165 / 161 Head light  in Kotte | ikman.lk   \n",
       "3   Vigo side step ( Foot board)  in Kottawa | ikman   \n",
       "4  Vigo Dickey Door Garnish Cover  in Kottawa | i...   \n",
       "\n",
       "                                      ad_description details  \\\n",
       "0  **TISSA AUTO PARTS** Dealer of used Japanese m...     NaN   \n",
       "1  Imported from Japan \\n\\nRight side available \\...     NaN   \n",
       "2  Imported from Japan \\n\\nAuto focus headlight a...     NaN   \n",
       "3  Hilux Vigo side step\\nBrand New Thaiwan\\nGood ...     NaN   \n",
       "4  Hilux Vigo ( 2005, 2009 ) dickey door garnish set     NaN   \n",
       "\n",
       "                                                slug  \\\n",
       "0         nissan-tiida-alternator-for-sale-colombo-3   \n",
       "1            axio-165-tail-light-for-sale-colombo-14   \n",
       "2           axio-165-161-head-light-for-sale-colombo   \n",
       "3         vigo-side-step-foot-board-for-sale-colombo   \n",
       "4  vigo-dickey-door-garnish-cover-for-sale-colombo-1   \n",
       "\n",
       "                            title      type      price        timestamp  \\\n",
       "0         Nissan Tiida Alternator  for_sale  Rs 18,000  23 Feb 11:35 pm   \n",
       "1             Axio 165 Tail Light  for_sale  Rs 67,000   23 Feb 8:32 am   \n",
       "2       Axio 165 / 161 Head light  for_sale  Rs 85,000   01 Dec 8:27 pm   \n",
       "3    Vigo side step ( Foot board)  for_sale  Rs 47,000   04 Dec 2:47 pm   \n",
       "4  Vigo Dickey Door Garnish Cover  for_sale   Rs 9,000   08 Dec 9:28 am   \n",
       "\n",
       "                 posted_date         deactivation_date  \\\n",
       "0  2023-02-23T23:35:10+05:30  2022-05-30T17:13:04.000Z   \n",
       "1  2023-02-23T08:32:44+05:30  2022-03-31T16:27:59.000Z   \n",
       "2  2022-12-01T20:27:49+05:30  2022-03-31T14:03:57.000Z   \n",
       "3  2022-12-04T14:47:27+05:30  2022-07-29T13:22:59.000Z   \n",
       "4  2022-12-08T09:28:04+05:30  2022-07-29T12:55:44.000Z   \n",
       "\n",
       "                   category parent_category    location geo_region  \\\n",
       "0  Auto Parts & Accessories        Vehicles  Maharagama      LK-11   \n",
       "1  Auto Parts & Accessories        Vehicles       Kotte      LK-11   \n",
       "2  Auto Parts & Accessories        Vehicles       Kotte      LK-11   \n",
       "3  Auto Parts & Accessories        Vehicles     Kottawa      LK-11   \n",
       "4  Auto Parts & Accessories        Vehicles     Kottawa      LK-11   \n",
       "\n",
       "                              area  is_delivery_free  is_doorstep_delivery  \\\n",
       "0  {'id': 1506, 'name': 'Colombo'}             False                 False   \n",
       "1  {'id': 1506, 'name': 'Colombo'}             False                 False   \n",
       "2  {'id': 1506, 'name': 'Colombo'}             False                 False   \n",
       "3  {'id': 1506, 'name': 'Colombo'}             False                 False   \n",
       "4  {'id': 1506, 'name': 'Colombo'}             False                 False   \n",
       "\n",
       "   is_dsd_applicable is_member is_authorized_dealer is_featured_member  \\\n",
       "0              False      True                False              False   \n",
       "1              False      True                False              False   \n",
       "2              False      True                False              False   \n",
       "3              False      True                False              False   \n",
       "4              False      True                False              False   \n",
       "\n",
       "   is_verified membership_level    member_since  \\\n",
       "0         True          premium  September 2019   \n",
       "1         True             plus       June 2018   \n",
       "2         True             plus       June 2018   \n",
       "3        False             plus   February 2017   \n",
       "4        False             plus   February 2017   \n",
       "\n",
       "                                          properties  \\\n",
       "0  {'Condition': 'Reconditioned', 'Part or Access...   \n",
       "1  {'Condition': 'Reconditioned', 'Part or Access...   \n",
       "2  {'Condition': 'Reconditioned', 'Part or Access...   \n",
       "3  {'Condition': 'New', 'Part or Accessory Type':...   \n",
       "4  {'Condition': 'New', 'Part or Accessory Type':...   \n",
       "\n",
       "                                                user  \n",
       "0  a6681dea494390daa516a6d2bdcb36e08c318574a13413...  \n",
       "1  5d99b8e45a1bb318079da7a36392d9025e1644cb49ecbf...  \n",
       "2  5d99b8e45a1bb318079da7a36392d9025e1644cb49ecbf...  \n",
       "3  634d93e14a62d9de7b400ee3679ae1d5506f4252ff0580...  \n",
       "4  634d93e14a62d9de7b400ee3679ae1d5506f4252ff0580...  "
      ]
     },
     "execution_count": 27,
     "metadata": {},
     "output_type": "execute_result"
    }
   ],
   "source": [
    "pd.set_option('display.max_columns',None)\n",
    "df.head()"
   ]
  },
  {
   "cell_type": "code",
   "execution_count": 28,
   "id": "8762a272",
   "metadata": {},
   "outputs": [],
   "source": [
    "df.dropna(subset=['ad_description','timestamp','posted_date','deactivation_date'],inplace=True)"
   ]
  },
  {
   "cell_type": "code",
   "execution_count": 29,
   "id": "445caf45",
   "metadata": {},
   "outputs": [
    {
     "data": {
      "text/plain": [
       "ad_title                     0\n",
       "ad_description               0\n",
       "details                 103382\n",
       "slug                         0\n",
       "title                        0\n",
       "type                         0\n",
       "price                     3811\n",
       "timestamp                    0\n",
       "posted_date                  0\n",
       "deactivation_date            0\n",
       "category                     0\n",
       "parent_category              0\n",
       "location                     0\n",
       "geo_region                   0\n",
       "area                         0\n",
       "is_delivery_free             0\n",
       "is_doorstep_delivery         0\n",
       "is_dsd_applicable            0\n",
       "is_member                 9049\n",
       "is_authorized_dealer      9049\n",
       "is_featured_member        9049\n",
       "is_verified                  0\n",
       "membership_level             0\n",
       "member_since            150243\n",
       "properties                   0\n",
       "user                         0\n",
       "dtype: int64"
      ]
     },
     "execution_count": 29,
     "metadata": {},
     "output_type": "execute_result"
    }
   ],
   "source": [
    "df.isnull().sum()"
   ]
  },
  {
   "cell_type": "code",
   "execution_count": 30,
   "id": "73f721de",
   "metadata": {},
   "outputs": [],
   "source": [
    "df.dropna(subset=['ad_description','timestamp','posted_date','deactivation_date'],inplace=True)"
   ]
  },
  {
   "cell_type": "code",
   "execution_count": 31,
   "id": "58ceb8ef",
   "metadata": {},
   "outputs": [
    {
     "data": {
      "text/plain": [
       "ad_title                     0\n",
       "ad_description               0\n",
       "details                 103382\n",
       "slug                         0\n",
       "title                        0\n",
       "type                         0\n",
       "price                     3811\n",
       "timestamp                    0\n",
       "posted_date                  0\n",
       "deactivation_date            0\n",
       "category                     0\n",
       "parent_category              0\n",
       "location                     0\n",
       "geo_region                   0\n",
       "area                         0\n",
       "is_delivery_free             0\n",
       "is_doorstep_delivery         0\n",
       "is_dsd_applicable            0\n",
       "is_member                 9049\n",
       "is_authorized_dealer      9049\n",
       "is_featured_member        9049\n",
       "is_verified                  0\n",
       "membership_level             0\n",
       "member_since            150243\n",
       "properties                   0\n",
       "user                         0\n",
       "dtype: int64"
      ]
     },
     "execution_count": 31,
     "metadata": {},
     "output_type": "execute_result"
    }
   ],
   "source": [
    "df.isnull().sum()"
   ]
  },
  {
   "cell_type": "code",
   "execution_count": 32,
   "id": "a819cdba",
   "metadata": {},
   "outputs": [],
   "source": [
    "df=df.drop('details',axis=1)"
   ]
  },
  {
   "cell_type": "code",
   "execution_count": 33,
   "id": "d2ec78b7",
   "metadata": {},
   "outputs": [],
   "source": [
    "df=df.drop('member_since',axis=1)"
   ]
  },
  {
   "cell_type": "code",
   "execution_count": 34,
   "id": "6c39470b",
   "metadata": {},
   "outputs": [
    {
     "data": {
      "text/plain": [
       "ad_title                   0\n",
       "ad_description             0\n",
       "slug                       0\n",
       "title                      0\n",
       "type                       0\n",
       "price                   3811\n",
       "timestamp                  0\n",
       "posted_date                0\n",
       "deactivation_date          0\n",
       "category                   0\n",
       "parent_category            0\n",
       "location                   0\n",
       "geo_region                 0\n",
       "area                       0\n",
       "is_delivery_free           0\n",
       "is_doorstep_delivery       0\n",
       "is_dsd_applicable          0\n",
       "is_member               9049\n",
       "is_authorized_dealer    9049\n",
       "is_featured_member      9049\n",
       "is_verified                0\n",
       "membership_level           0\n",
       "properties                 0\n",
       "user                       0\n",
       "dtype: int64"
      ]
     },
     "execution_count": 34,
     "metadata": {},
     "output_type": "execute_result"
    }
   ],
   "source": [
    "df.isnull().sum()"
   ]
  },
  {
   "cell_type": "markdown",
   "id": "a5d90d55",
   "metadata": {},
   "source": [
    "# changing the price of the column"
   ]
  },
  {
   "cell_type": "code",
   "execution_count": 35,
   "id": "f0c243c8",
   "metadata": {},
   "outputs": [],
   "source": [
    "df['price'] = pd.to_numeric(df['price'].str.replace('Rs', '').str.replace(',', ''), errors='coerce')"
   ]
  },
  {
   "cell_type": "code",
   "execution_count": 36,
   "id": "8f293e11",
   "metadata": {},
   "outputs": [],
   "source": [
    "df['price'].fillna(df['price'].median(), inplace=True)"
   ]
  },
  {
   "cell_type": "code",
   "execution_count": 37,
   "id": "b3858875",
   "metadata": {},
   "outputs": [
    {
     "data": {
      "text/plain": [
       "ad_title                   0\n",
       "ad_description             0\n",
       "slug                       0\n",
       "title                      0\n",
       "type                       0\n",
       "price                      0\n",
       "timestamp                  0\n",
       "posted_date                0\n",
       "deactivation_date          0\n",
       "category                   0\n",
       "parent_category            0\n",
       "location                   0\n",
       "geo_region                 0\n",
       "area                       0\n",
       "is_delivery_free           0\n",
       "is_doorstep_delivery       0\n",
       "is_dsd_applicable          0\n",
       "is_member               9049\n",
       "is_authorized_dealer    9049\n",
       "is_featured_member      9049\n",
       "is_verified                0\n",
       "membership_level           0\n",
       "properties                 0\n",
       "user                       0\n",
       "dtype: int64"
      ]
     },
     "execution_count": 37,
     "metadata": {},
     "output_type": "execute_result"
    }
   ],
   "source": [
    "df.isnull().sum()"
   ]
  },
  {
   "cell_type": "code",
   "execution_count": 38,
   "id": "a752a1cd",
   "metadata": {},
   "outputs": [],
   "source": [
    "categorical_features = ['type', 'category','is_verified','location', 'geo_region', 'membership_level', 'is_member', 'is_authorized_dealer', 'is_featured_member']\n",
    "label_encoders = {col: LabelEncoder() for col in categorical_features}"
   ]
  },
  {
   "cell_type": "code",
   "execution_count": 39,
   "id": "ca8b011b",
   "metadata": {},
   "outputs": [],
   "source": [
    "for col in categorical_features:\n",
    "    df[col] = label_encoders[col].fit_transform(df[col])"
   ]
  },
  {
   "cell_type": "code",
   "execution_count": 40,
   "id": "a2cdeeb5",
   "metadata": {},
   "outputs": [],
   "source": [
    "imputer = SimpleImputer(strategy='most_frequent')\n",
    "df[['is_member','is_authorized_dealer','is_featured_member']] = imputer.fit_transform(df[['is_member','is_authorized_dealer','is_featured_member']])"
   ]
  },
  {
   "cell_type": "code",
   "execution_count": 41,
   "id": "afc422b7",
   "metadata": {},
   "outputs": [],
   "source": [
    "label =LabelEncoder()\n",
    "for column in ['type','location','geo_region','area','is_delivery_free','is_doorstep_delivery','is_dsd_applicable','is_member','is_authorized_dealer','is_featured_member','is_verified','membership_level']:\n",
    "    df[column]= label.fit_transform(df[column])"
   ]
  },
  {
   "cell_type": "code",
   "execution_count": 42,
   "id": "06caa857",
   "metadata": {},
   "outputs": [
    {
     "ename": "NameError",
     "evalue": "name 'StandardScaler' is not defined",
     "output_type": "error",
     "traceback": [
      "\u001b[1;31m---------------------------------------------------------------------------\u001b[0m",
      "\u001b[1;31mNameError\u001b[0m                                 Traceback (most recent call last)",
      "Cell \u001b[1;32mIn[42], line 2\u001b[0m\n\u001b[0;32m      1\u001b[0m numerical_features \u001b[38;5;241m=\u001b[39m [\u001b[38;5;124m'\u001b[39m\u001b[38;5;124mprice\u001b[39m\u001b[38;5;124m'\u001b[39m]\n\u001b[1;32m----> 2\u001b[0m scaler \u001b[38;5;241m=\u001b[39m StandardScaler()\n\u001b[0;32m      3\u001b[0m df[numerical_features] \u001b[38;5;241m=\u001b[39m scaler\u001b[38;5;241m.\u001b[39mfit_transform(df[numerical_features])\n",
      "\u001b[1;31mNameError\u001b[0m: name 'StandardScaler' is not defined"
     ]
    }
   ],
   "source": [
    "numerical_features = ['price']\n",
    "scaler = StandardScaler()\n",
    "df[numerical_features] = scaler.fit_transform(df[numerical_features])"
   ]
  },
  {
   "cell_type": "code",
   "execution_count": 43,
   "id": "3c59d20f",
   "metadata": {},
   "outputs": [],
   "source": [
    "df.drop(columns=['ad_title','posted_date','parent_category','is_delivery_free','deactivation_date','is_doorstep_delivery','is_doorstep_delivery','ad_description','is_dsd_applicable','slug', 'title', 'timestamp', 'area', 'properties', 'user'], inplace=True)"
   ]
  },
  {
   "cell_type": "code",
   "execution_count": 44,
   "id": "41ac3662",
   "metadata": {},
   "outputs": [
    {
     "data": {
      "text/plain": [
       "(258875, 10)"
      ]
     },
     "execution_count": 44,
     "metadata": {},
     "output_type": "execute_result"
    }
   ],
   "source": [
    "df.shape"
   ]
  },
  {
   "cell_type": "code",
   "execution_count": 45,
   "id": "6dec8dd6",
   "metadata": {},
   "outputs": [
    {
     "data": {
      "image/png": "[encoded data removed]",
      "text/plain": [
       "<Figure size 1500x1000 with 2 Axes>"
      ]
     },
     "metadata": {},
     "output_type": "display_data"
    }
   ],
   "source": [
    "plt.figure(figsize=(15, 10))\n",
    "correlation_matrix = df.corr()\n",
    "sns.heatmap(correlation_matrix, annot=True, cmap='coolwarm')\n",
    "plt.show()"
   ]
  },
  {
   "cell_type": "code",
   "execution_count": 46,
   "id": "bbf84155",
   "metadata": {},
   "outputs": [],
   "source": [
    "X = df.drop('price', axis=1)\n",
    "y = df['price']"
   ]
  },
  {
   "cell_type": "code",
   "execution_count": 47,
   "id": "d5b8b668",
   "metadata": {},
   "outputs": [
    {
     "name": "stdout",
     "output_type": "stream",
     "text": [
      "Selected features: Index(['type', 'category', 'location', 'geo_region', 'is_member',\n",
      "       'is_authorized_dealer', 'is_featured_member', 'is_verified',\n",
      "       'membership_level'],\n",
      "      dtype='object')\n"
     ]
    },
    {
     "name": "stderr",
     "output_type": "stream",
     "text": [
      "C:\\Users\\DELL\\anaconda3\\Lib\\site-packages\\sklearn\\linear_model\\_coordinate_descent.py:631: ConvergenceWarning: Objective did not converge. You might want to increase the number of iterations, check the scale of the features or consider increasing regularisation. Duality gap: 6.694e+18, tolerance: 1.363e+15\n",
      "  model = cd_fast.enet_coordinate_descent(\n",
      "C:\\Users\\DELL\\anaconda3\\Lib\\site-packages\\sklearn\\base.py:432: UserWarning: X has feature names, but SelectFromModel was fitted without feature names\n",
      "  warnings.warn(\n"
     ]
    }
   ],
   "source": [
    "from sklearn.feature_selection import SelectFromModel\n",
    "lasso = Lasso(alpha=0.01)\n",
    "lasso.fit(X, y)\n",
    "model = SelectFromModel(lasso, prefit=True)\n",
    "X_selected = model.transform(X)\n",
    "\n",
    "selected_features = X.columns[(model.get_support())]\n",
    "print(\"Selected features:\", selected_features)"
   ]
  },
  {
   "cell_type": "code",
   "execution_count": 48,
   "id": "944b7f9a",
   "metadata": {},
   "outputs": [],
   "source": [
    "from sklearn.model_selection import train_test_split, cross_val_score\n",
    "from sklearn.linear_model import LinearRegression\n",
    "from sklearn.tree import DecisionTreeRegressor\n",
    "from sklearn.ensemble import RandomForestRegressor\n",
    "from sklearn.metrics import mean_squared_error, mean_absolute_error, r2_score"
   ]
  },
  {
   "cell_type": "code",
   "execution_count": 49,
   "id": "39f36c77",
   "metadata": {},
   "outputs": [],
   "source": [
    "X_train, X_test, y_train, y_test = train_test_split(X_selected, y, test_size=0.2, random_state=0)"
   ]
  },
  {
   "cell_type": "code",
   "execution_count": 50,
   "id": "be9d34a1",
   "metadata": {},
   "outputs": [],
   "source": [
    "models = {\n",
    "    'Linear Regression': LinearRegression(),\n",
    "    'Decision Tree': DecisionTreeRegressor(),\n",
    "    'Random Forest': RandomForestRegressor(),\n",
    "}"
   ]
  },
  {
   "cell_type": "code",
   "execution_count": 51,
   "id": "fe76cfe7",
   "metadata": {},
   "outputs": [],
   "source": [
    "results = {}\n",
    "for name, model in models.items():\n",
    "    model.fit(X_train, y_train)\n",
    "    y_pred = model.predict(X_test)\n",
    "    results[name] = {\n",
    "        'RMSE': mean_squared_error(y_test, y_pred, squared=False),\n",
    "        'MAE': mean_absolute_error(y_test, y_pred),\n",
    "        'R²': r2_score(y_test, y_pred)\n",
    "    }"
   ]
  },
  {
   "cell_type": "code",
   "execution_count": 52,
   "id": "ad873b20",
   "metadata": {},
   "outputs": [
    {
     "name": "stdout",
     "output_type": "stream",
     "text": [
      "Linear Regression:\n",
      "  RMSE: 5772160.7627\n",
      "  MAE: 2561367.5001\n",
      "  R²: 0.0236\n",
      "Decision Tree:\n",
      "  RMSE: 4182827.8126\n",
      "  MAE: 1114640.5010\n",
      "  R²: 0.4873\n",
      "Random Forest:\n",
      "  RMSE: 4171831.2718\n",
      "  MAE: 1112392.0864\n",
      "  R²: 0.4900\n"
     ]
    }
   ],
   "source": [
    "for name, metrics in results.items():\n",
    "    print(f\"{name}:\")\n",
    "    for metric, value in metrics.items():\n",
    "        print(f\"  {metric}: {value:.4f}\")"
   ]
  },
  {
   "cell_type": "code",
   "execution_count": 53,
   "id": "3aa8581f",
   "metadata": {},
   "outputs": [],
   "source": [
    "from sklearn.model_selection import GridSearchCV"
   ]
  },
  {
   "cell_type": "code",
   "execution_count": 54,
   "id": "3c334762",
   "metadata": {},
   "outputs": [],
   "source": [
    "y = df.iloc[:, price_index]"
   ]
  },
  {
   "cell_type": "code",
   "execution_count": 55,
   "id": "29bf2b36",
   "metadata": {},
   "outputs": [
    {
     "ename": "NameError",
     "evalue": "name 'x' is not defined",
     "output_type": "error",
     "traceback": [
      "\u001b[1;31m---------------------------------------------------------------------------\u001b[0m",
      "\u001b[1;31mNameError\u001b[0m                                 Traceback (most recent call last)",
      "Cell \u001b[1;32mIn[55], line 1\u001b[0m\n\u001b[1;32m----> 1\u001b[0m x_train,x_test,y_train,y_test \u001b[38;5;241m=\u001b[39m train_test_split(x,y,test_size\u001b[38;5;241m=\u001b[39m\u001b[38;5;241m0.2\u001b[39m,random_state\u001b[38;5;241m=\u001b[39m\u001b[38;5;241m0\u001b[39m)\n",
      "\u001b[1;31mNameError\u001b[0m: name 'x' is not defined"
     ]
    }
   ],
   "source": [
    "x_train,x_test,y_train,y_test = train_test_split(x,y,test_size=0.2,random_state=0)"
   ]
  },
  {
   "cell_type": "code",
   "execution_count": null,
   "id": "97fc9305",
   "metadata": {},
   "outputs": [],
   "source": [
    "param_grid = {\n",
    "    'n_estimators': [50, 100, 200],\n",
    "    'max_depth': [10, 20, 30, None],\n",
    "    'min_samples_split': [2, 5, 10],\n",
    "    'min_samples_leaf': [1, 2, 4]\n",
    "}"
   ]
  },
  {
   "cell_type": "code",
   "execution_count": null,
   "id": "1c68f983",
   "metadata": {},
   "outputs": [],
   "source": [
    "grid_search = GridSearchCV(estimator=RandomForestRegressor(), param_grid=param_grid, cv=3, n_jobs=-1, verbose=2)\n",
    "grid_search.fit(X_train, y_train)"
   ]
  },
  {
   "cell_type": "code",
   "execution_count": null,
   "id": "6d2fbaaf",
   "metadata": {},
   "outputs": [],
   "source": [
    "print(\"Best parameters:\", grid_search.best_params_)"
   ]
  },
  {
   "cell_type": "code",
   "execution_count": null,
   "id": "bcb21c51",
   "metadata": {},
   "outputs": [],
   "source": [
    "riddel.best_params_"
   ]
  },
  {
   "cell_type": "code",
   "execution_count": null,
   "id": "a8381ec9",
   "metadata": {},
   "outputs": [],
   "source": [
    "# Section 3: Geographical Analysis of Demand and Supply\n",
    "    Problem Statement: Analyze the geographical distribution of vehicle advertisements to understand demand and supply patterns.\n",
    "    Tasks:\n",
    "    Data Preprocessing:\n",
    "        Handle missing values.\n",
    "        Encode geographical variables.\n",
    "    Geographical Analysis:\n",
    "        Visualize the distribution of advertisements across different regions.\n",
    "        Identify regions with high demand and supply.\n",
    "    Temporal Analysis:\n",
    "        Analyze how demand and supply vary over time in different regions.\n",
    "        Identify any seasonal trends or patterns.\n",
    "    Modeling Demand and Supply:\n",
    "        Develop a regression model to predict demand and supply based on geographical and temporal features.\n",
    "        Evaluate the model using appropriate metrics."
   ]
  },
  {
   "cell_type": "code",
   "execution_count": null,
   "id": "06e5c4af",
   "metadata": {},
   "outputs": [],
   "source": [
    "import pandas as pd\n",
    "import numpy as np\n",
    "import matplotlib.pyplot as plt\n",
    "import seaborn as sns\n",
    "from sklearn.impute import SimpleImputer\n",
    "from sklearn.preprocessing import LabelEncoder,OneHotEncoder\n",
    "from sklearn.preprocessing import OneHotEncoder\n",
    "from sklearn.model_selection import train_test_split\n",
    "from sklearn.preprocessing import MinMaxScaler\n",
    "from sklearn.preprocessing import StandardScaler\n",
    "from sklearn.linear_model import LinearRegression\n",
    "from sklearn import metrics\n",
    "from sklearn.metrics import mean_squared_error,r2_score\n",
    "from sklearn.preprocessing import PolynomialFeatures\n",
    "from sklearn.linear_model import LogisticRegression"
   ]
  },
  {
   "cell_type": "code",
   "execution_count": 3,
   "id": "72ac0e54",
   "metadata": {},
   "outputs": [],
   "source": [
    "dff=pd.read_csv('C://Users/DELL/Desktop/vehicles.csv')"
   ]
  },
  {
   "cell_type": "code",
   "execution_count": 4,
   "id": "b26b690d",
   "metadata": {},
   "outputs": [
    {
     "name": "stdout",
     "output_type": "stream",
     "text": [
      "<class 'pandas.core.frame.DataFrame'>\n",
      "RangeIndex: 258888 entries, 0 to 258887\n",
      "Data columns (total 26 columns):\n",
      " #   Column                Non-Null Count   Dtype \n",
      "---  ------                --------------   ----- \n",
      " 0   ad_title              258888 non-null  object\n",
      " 1   ad_description        258881 non-null  object\n",
      " 2   details               155505 non-null  object\n",
      " 3   slug                  258888 non-null  object\n",
      " 4   title                 258888 non-null  object\n",
      " 5   type                  258888 non-null  object\n",
      " 6   price                 255077 non-null  object\n",
      " 7   timestamp             258882 non-null  object\n",
      " 8   posted_date           258882 non-null  object\n",
      " 9   deactivation_date     258882 non-null  object\n",
      " 10  category              258888 non-null  object\n",
      " 11  parent_category       258888 non-null  object\n",
      " 12  location              258888 non-null  object\n",
      " 13  geo_region            258888 non-null  object\n",
      " 14  area                  258888 non-null  object\n",
      " 15  is_delivery_free      258888 non-null  bool  \n",
      " 16  is_doorstep_delivery  258888 non-null  bool  \n",
      " 17  is_dsd_applicable     258888 non-null  bool  \n",
      " 18  is_member             249838 non-null  object\n",
      " 19  is_authorized_dealer  249838 non-null  object\n",
      " 20  is_featured_member    249838 non-null  object\n",
      " 21  is_verified           258888 non-null  bool  \n",
      " 22  membership_level      258888 non-null  object\n",
      " 23  member_since          108634 non-null  object\n",
      " 24  properties            258888 non-null  object\n",
      " 25  user                  258888 non-null  object\n",
      "dtypes: bool(4), object(22)\n",
      "memory usage: 44.4+ MB\n"
     ]
    }
   ],
   "source": [
    "dff.info()"
   ]
  },
  {
   "cell_type": "code",
   "execution_count": 5,
   "id": "8a66f3b7",
   "metadata": {},
   "outputs": [
    {
     "data": {
      "text/plain": [
       "Index(['ad_title', 'ad_description', 'details', 'slug', 'title', 'type',\n",
       "       'price', 'timestamp', 'posted_date', 'deactivation_date', 'category',\n",
       "       'parent_category', 'location', 'geo_region', 'area', 'is_delivery_free',\n",
       "       'is_doorstep_delivery', 'is_dsd_applicable', 'is_member',\n",
       "       'is_authorized_dealer', 'is_featured_member', 'is_verified',\n",
       "       'membership_level', 'member_since', 'properties', 'user'],\n",
       "      dtype='object')"
      ]
     },
     "execution_count": 5,
     "metadata": {},
     "output_type": "execute_result"
    }
   ],
   "source": [
    "dff.columns"
   ]
  },
  {
   "cell_type": "code",
   "execution_count": 6,
   "id": "11731d0e",
   "metadata": {},
   "outputs": [
    {
     "data": {
      "text/plain": [
       "ad_title                     0\n",
       "ad_description               7\n",
       "details                 103383\n",
       "slug                         0\n",
       "title                        0\n",
       "type                         0\n",
       "price                     3811\n",
       "timestamp                    6\n",
       "posted_date                  6\n",
       "deactivation_date            6\n",
       "category                     0\n",
       "parent_category              0\n",
       "location                     0\n",
       "geo_region                   0\n",
       "area                         0\n",
       "is_delivery_free             0\n",
       "is_doorstep_delivery         0\n",
       "is_dsd_applicable            0\n",
       "is_member                 9050\n",
       "is_authorized_dealer      9050\n",
       "is_featured_member        9050\n",
       "is_verified                  0\n",
       "membership_level             0\n",
       "member_since            150254\n",
       "properties                   0\n",
       "user                         0\n",
       "dtype: int64"
      ]
     },
     "execution_count": 6,
     "metadata": {},
     "output_type": "execute_result"
    }
   ],
   "source": [
    "dff.isnull().sum()"
   ]
  },
  {
   "cell_type": "code",
   "execution_count": 7,
   "id": "ee94577a",
   "metadata": {},
   "outputs": [],
   "source": [
    "dff.dropna(subset=['ad_description','timestamp','posted_date','deactivation_date'],inplace=True)"
   ]
  },
  {
   "cell_type": "code",
   "execution_count": 8,
   "id": "c21605d5",
   "metadata": {},
   "outputs": [],
   "source": [
    "dff=dff.drop('details',axis=1)\n",
    "dff=dff.drop('member_since',axis=1)"
   ]
  },
  {
   "cell_type": "code",
   "execution_count": 9,
   "id": "b6ae2609",
   "metadata": {},
   "outputs": [
    {
     "data": {
      "text/plain": [
       "ad_title                   0\n",
       "ad_description             0\n",
       "slug                       0\n",
       "title                      0\n",
       "type                       0\n",
       "price                   3811\n",
       "timestamp                  0\n",
       "posted_date                0\n",
       "deactivation_date          0\n",
       "category                   0\n",
       "parent_category            0\n",
       "location                   0\n",
       "geo_region                 0\n",
       "area                       0\n",
       "is_delivery_free           0\n",
       "is_doorstep_delivery       0\n",
       "is_dsd_applicable          0\n",
       "is_member               9049\n",
       "is_authorized_dealer    9049\n",
       "is_featured_member      9049\n",
       "is_verified                0\n",
       "membership_level           0\n",
       "properties                 0\n",
       "user                       0\n",
       "dtype: int64"
      ]
     },
     "execution_count": 9,
     "metadata": {},
     "output_type": "execute_result"
    }
   ],
   "source": [
    "dff.isnull().sum()"
   ]
  },
  {
   "cell_type": "code",
   "execution_count": 10,
   "id": "4766c453",
   "metadata": {},
   "outputs": [],
   "source": [
    "dff['price'] = pd.to_numeric(dff['price'].str.replace('Rs', '').str.replace(',', ''), errors='coerce')"
   ]
  },
  {
   "cell_type": "code",
   "execution_count": 11,
   "id": "84caa959",
   "metadata": {},
   "outputs": [],
   "source": [
    "dff['price'].fillna(dff['price'].median(), inplace=True)"
   ]
  },
  {
   "cell_type": "code",
   "execution_count": 12,
   "id": "cfbfdb42",
   "metadata": {},
   "outputs": [
    {
     "data": {
      "text/plain": [
       "ad_title                   0\n",
       "ad_description             0\n",
       "slug                       0\n",
       "title                      0\n",
       "type                       0\n",
       "price                      0\n",
       "timestamp                  0\n",
       "posted_date                0\n",
       "deactivation_date          0\n",
       "category                   0\n",
       "parent_category            0\n",
       "location                   0\n",
       "geo_region                 0\n",
       "area                       0\n",
       "is_delivery_free           0\n",
       "is_doorstep_delivery       0\n",
       "is_dsd_applicable          0\n",
       "is_member               9049\n",
       "is_authorized_dealer    9049\n",
       "is_featured_member      9049\n",
       "is_verified                0\n",
       "membership_level           0\n",
       "properties                 0\n",
       "user                       0\n",
       "dtype: int64"
      ]
     },
     "execution_count": 12,
     "metadata": {},
     "output_type": "execute_result"
    }
   ],
   "source": [
    "dff.isnull().sum()"
   ]
  },
  {
   "cell_type": "code",
   "execution_count": 13,
   "id": "a3289ded",
   "metadata": {},
   "outputs": [],
   "source": [
    "categorical_features = ['type', 'category','is_verified','location', 'geo_region', 'membership_level', 'is_member', 'is_authorized_dealer', 'is_featured_member']\n",
    "label_encoders = {col: LabelEncoder() for col in categorical_features}"
   ]
  },
  {
   "cell_type": "code",
   "execution_count": 14,
   "id": "7b7a7052",
   "metadata": {},
   "outputs": [],
   "source": [
    "for col in categorical_features:\n",
    "    dff[col] = label_encoders[col].fit_transform(dff[col])"
   ]
  },
  {
   "cell_type": "code",
   "execution_count": 15,
   "id": "d31ca487",
   "metadata": {},
   "outputs": [
    {
     "data": {
      "text/plain": [
       "ad_title                0\n",
       "ad_description          0\n",
       "slug                    0\n",
       "title                   0\n",
       "type                    0\n",
       "price                   0\n",
       "timestamp               0\n",
       "posted_date             0\n",
       "deactivation_date       0\n",
       "category                0\n",
       "parent_category         0\n",
       "location                0\n",
       "geo_region              0\n",
       "area                    0\n",
       "is_delivery_free        0\n",
       "is_doorstep_delivery    0\n",
       "is_dsd_applicable       0\n",
       "is_member               0\n",
       "is_authorized_dealer    0\n",
       "is_featured_member      0\n",
       "is_verified             0\n",
       "membership_level        0\n",
       "properties              0\n",
       "user                    0\n",
       "dtype: int64"
      ]
     },
     "execution_count": 15,
     "metadata": {},
     "output_type": "execute_result"
    }
   ],
   "source": [
    "dff.isnull().sum()"
   ]
  },
  {
   "cell_type": "code",
   "execution_count": 16,
   "id": "68b43cd9",
   "metadata": {},
   "outputs": [],
   "source": [
    "# Convert categorical geographical variables to numerical using one-hot encoding\n",
    "label =LabelEncoder()\n",
    "for column in ['location','geo_region','area']:\n",
    "    dff[column]= label.fit_transform(dff[column])"
   ]
  },
  {
   "cell_type": "code",
   "execution_count": 17,
   "id": "6c7b29b6",
   "metadata": {},
   "outputs": [
    {
     "data": {
      "image/png": "[encoded data removed]",
      "text/plain": [
       "<Figure size 1200x600 with 1 Axes>"
      ]
     },
     "metadata": {},
     "output_type": "display_data"
    }
   ],
   "source": [
    "import matplotlib.pyplot as plt\n",
    "import seaborn as sns\n",
    "\n",
    "# Count of advertisements by region\n",
    "plt.figure(figsize=(12, 6))\n",
    "sns.countplot(y='geo_region', data=dff, order=dff['geo_region'].value_counts().index)\n",
    "plt.title('Distribution of Advertisements by Region')\n",
    "plt.show()"
   ]
  },
  {
   "cell_type": "code",
   "execution_count": 18,
   "id": "26b11a68",
   "metadata": {},
   "outputs": [
    {
     "data": {
      "image/png": "[encoded data removed]",
      "text/plain": [
       "<Figure size 1200x600 with 1 Axes>"
      ]
     },
     "metadata": {},
     "output_type": "display_data"
    }
   ],
   "source": [
    "# Assuming 'category' or 'parent_category' indicates demand and supply\n",
    "plt.figure(figsize=(12, 6))\n",
    "sns.countplot(y='geo_region', hue='category', data=dff, order=dff['geo_region'].value_counts().index)\n",
    "plt.title('Demand and Supply by Region')\n",
    "plt.show()"
   ]
  },
  {
   "cell_type": "code",
   "execution_count": 19,
   "id": "310f3f9e",
   "metadata": {},
   "outputs": [
    {
     "name": "stderr",
     "output_type": "stream",
     "text": [
      "C:\\Users\\DELL\\AppData\\Local\\Temp\\ipykernel_6844\\1843703436.py:2: UserWarning: Converting to PeriodArray/Index representation will drop timezone information.\n",
      "  dff['month_year'] = dff['posted_date'].dt.to_period('M')\n"
     ]
    },
    {
     "data": {
      "image/png": "[encoded data removed]",
      "text/plain": [
       "<Figure size 1400x700 with 1 Axes>"
      ]
     },
     "metadata": {},
     "output_type": "display_data"
    }
   ],
   "source": [
    "dff['posted_date'] = pd.to_datetime(dff['posted_date'])\n",
    "dff['month_year'] = dff['posted_date'].dt.to_period('M')\n",
    "\n",
    "# Plotting advertisements over time\n",
    "plt.figure(figsize=(14, 7))\n",
    "dff.groupby('month_year').size().plot()\n",
    "plt.title('Advertisements Over Time')\n",
    "plt.xlabel('Month-Year')\n",
    "plt.ylabel('Number of Ads')\n",
    "plt.show()\n"
   ]
  },
  {
   "cell_type": "code",
   "execution_count": 20,
   "id": "60b50a44",
   "metadata": {},
   "outputs": [
    {
     "data": {
      "image/png": "[encoded data removed]",
      "text/plain": [
       "<Figure size 1200x600 with 1 Axes>"
      ]
     },
     "metadata": {},
     "output_type": "display_data"
    }
   ],
   "source": [
    "dff['month'] = dff['posted_date'].dt.month\n",
    "\n",
    "plt.figure(figsize=(12, 6))\n",
    "sns.countplot(x='month', data=dff)\n",
    "plt.title('Seasonal Trends in Advertisements')\n",
    "plt.xlabel('Month')\n",
    "plt.ylabel('Number of Ads')\n",
    "plt.show()\n"
   ]
  },
  {
   "cell_type": "code",
   "execution_count": 21,
   "id": "6f50f83f",
   "metadata": {},
   "outputs": [
    {
     "ename": "NameError",
     "evalue": "name 'train_test_split' is not defined",
     "output_type": "error",
     "traceback": [
      "\u001b[1;31m---------------------------------------------------------------------------\u001b[0m",
      "\u001b[1;31mNameError\u001b[0m                                 Traceback (most recent call last)",
      "Cell \u001b[1;32mIn[21], line 10\u001b[0m\n\u001b[0;32m      7\u001b[0m X \u001b[38;5;241m=\u001b[39m dff\u001b[38;5;241m.\u001b[39miloc[:, dff\u001b[38;5;241m.\u001b[39mcolumns \u001b[38;5;241m!=\u001b[39m \u001b[38;5;124m'\u001b[39m\u001b[38;5;124mprice\u001b[39m\u001b[38;5;124m'\u001b[39m]\n\u001b[0;32m      9\u001b[0m \u001b[38;5;66;03m# Split the data\u001b[39;00m\n\u001b[1;32m---> 10\u001b[0m X_train, X_test, y_train, y_test \u001b[38;5;241m=\u001b[39m train_test_split(X, y, test_size\u001b[38;5;241m=\u001b[39m\u001b[38;5;241m0.2\u001b[39m, random_state\u001b[38;5;241m=\u001b[39m\u001b[38;5;241m42\u001b[39m)\n\u001b[0;32m     12\u001b[0m \u001b[38;5;66;03m# Train the model\u001b[39;00m\n\u001b[0;32m     13\u001b[0m model \u001b[38;5;241m=\u001b[39m LinearRegression()\n",
      "\u001b[1;31mNameError\u001b[0m: name 'train_test_split' is not defined"
     ]
    }
   ],
   "source": [
    "# Example features and target (customize based on your dataset)\n",
    "features = ['price', 'timestamp'] + list(dff.columns[dff.columns.str.startswith('location_')])\n",
    "target = 'some_target_variable'  # define your target variable\n",
    "\n",
    "price_index = dff.columns.get_loc('price')\n",
    "y = dff.iloc[:, price_index]\n",
    "X = dff.iloc[:, dff.columns != 'price']\n",
    "\n",
    "# Split the data\n",
    "X_train, X_test, y_train, y_test = train_test_split(X, y, test_size=0.2, random_state=42)\n",
    "\n",
    "# Train the model\n",
    "model = LinearRegression()\n",
    "model.fit(X_train, y_train)\n",
    "\n",
    "# Predictions\n",
    "y_pred = model.predict(X_test)\n",
    "\n",
    "# Evaluate the model\n",
    "mse = mean_squared_error(y_test, y_pred)\n",
    "r2 = r2_score(y_test, y_pred)\n",
    "\n",
    "print(f'Mean Squared Error: {mse}')\n",
    "print(f'R^2 Score: {r2}')\n"
   ]
  },
  {
   "cell_type": "code",
   "execution_count": null,
   "id": "7ad81134",
   "metadata": {},
   "outputs": [],
   "source": []
  }
 ],
 "metadata": {
  "kernelspec": {
   "display_name": "Python 3 (ipykernel)",
   "language": "python",
   "name": "python3"
  },
  "language_info": {
   "codemirror_mode": {
    "name": "ipython",
    "version": 3
   },
   "file_extension": ".py",
   "mimetype": "text/x-python",
   "name": "python",
   "nbconvert_exporter": "python",
   "pygments_lexer": "ipython3",
   "version": "3.11.5"
  }
 },
 "nbformat": 4,
 "nbformat_minor": 5
}
