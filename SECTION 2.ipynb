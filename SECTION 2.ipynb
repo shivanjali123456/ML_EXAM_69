{
 "cells": [
  {
   "cell_type": "code",
   "execution_count": 2,
   "id": "86aa67fd",
   "metadata": {},
   "outputs": [],
   "source": [
    "import pandas as pd\n",
    "import numpy as np"
   ]
  },
  {
   "cell_type": "code",
   "execution_count": 3,
   "id": "ccc622c9",
   "metadata": {},
   "outputs": [],
   "source": [
    "#Load Dataset\n",
    "df=pd.read_csv('C://Users/DELL/Desktop/vehicles.csv')"
   ]
  },
  {
   "cell_type": "markdown",
   "id": "92b7f415",
   "metadata": {},
   "source": [
    "# **Section 2: User Segmentation**\n",
    "Problem Statement:\n",
    "Segment users based on their advertisement behaviors and characteristics."
   ]
  },
  {
   "cell_type": "markdown",
   "id": "f285d2d6",
   "metadata": {},
   "source": [
    "# **Data Preprocessing:**\n",
    "1. Handle missing values.\n",
    "2. Encode categorical variables."
   ]
  },
  {
   "cell_type": "code",
   "execution_count": 4,
   "id": "92b8017e",
   "metadata": {},
   "outputs": [
    {
     "data": {
      "text/html": [
       "<div>\n",
       "<style scoped>\n",
       "    .dataframe tbody tr th:only-of-type {\n",
       "        vertical-align: middle;\n",
       "    }\n",
       "\n",
       "    .dataframe tbody tr th {\n",
       "        vertical-align: top;\n",
       "    }\n",
       "\n",
       "    .dataframe thead th {\n",
       "        text-align: right;\n",
       "    }\n",
       "</style>\n",
       "<table border=\"1\" class=\"dataframe\">\n",
       "  <thead>\n",
       "    <tr style=\"text-align: right;\">\n",
       "      <th></th>\n",
       "      <th>ad_title</th>\n",
       "      <th>ad_description</th>\n",
       "      <th>details</th>\n",
       "      <th>slug</th>\n",
       "      <th>title</th>\n",
       "      <th>type</th>\n",
       "      <th>price</th>\n",
       "      <th>timestamp</th>\n",
       "      <th>posted_date</th>\n",
       "      <th>deactivation_date</th>\n",
       "      <th>...</th>\n",
       "      <th>is_doorstep_delivery</th>\n",
       "      <th>is_dsd_applicable</th>\n",
       "      <th>is_member</th>\n",
       "      <th>is_authorized_dealer</th>\n",
       "      <th>is_featured_member</th>\n",
       "      <th>is_verified</th>\n",
       "      <th>membership_level</th>\n",
       "      <th>member_since</th>\n",
       "      <th>properties</th>\n",
       "      <th>user</th>\n",
       "    </tr>\n",
       "  </thead>\n",
       "  <tbody>\n",
       "    <tr>\n",
       "      <th>0</th>\n",
       "      <td>Nissan Tiida Alternator  in Maharagama | ikman</td>\n",
       "      <td>**TISSA AUTO PARTS** Dealer of used Japanese m...</td>\n",
       "      <td>NaN</td>\n",
       "      <td>nissan-tiida-alternator-for-sale-colombo-3</td>\n",
       "      <td>Nissan Tiida Alternator</td>\n",
       "      <td>for_sale</td>\n",
       "      <td>Rs 18,000</td>\n",
       "      <td>23 Feb 11:35 pm</td>\n",
       "      <td>2023-02-23T23:35:10+05:30</td>\n",
       "      <td>2022-05-30T17:13:04.000Z</td>\n",
       "      <td>...</td>\n",
       "      <td>False</td>\n",
       "      <td>False</td>\n",
       "      <td>True</td>\n",
       "      <td>False</td>\n",
       "      <td>False</td>\n",
       "      <td>True</td>\n",
       "      <td>premium</td>\n",
       "      <td>September 2019</td>\n",
       "      <td>{'Condition': 'Reconditioned', 'Part or Access...</td>\n",
       "      <td>a6681dea494390daa516a6d2bdcb36e08c318574a13413...</td>\n",
       "    </tr>\n",
       "    <tr>\n",
       "      <th>1</th>\n",
       "      <td>Axio 165 Tail Light  in Kotte | ikman</td>\n",
       "      <td>Imported from Japan \\n\\nRight side available \\...</td>\n",
       "      <td>NaN</td>\n",
       "      <td>axio-165-tail-light-for-sale-colombo-14</td>\n",
       "      <td>Axio 165 Tail Light</td>\n",
       "      <td>for_sale</td>\n",
       "      <td>Rs 67,000</td>\n",
       "      <td>23 Feb 8:32 am</td>\n",
       "      <td>2023-02-23T08:32:44+05:30</td>\n",
       "      <td>2022-03-31T16:27:59.000Z</td>\n",
       "      <td>...</td>\n",
       "      <td>False</td>\n",
       "      <td>False</td>\n",
       "      <td>True</td>\n",
       "      <td>False</td>\n",
       "      <td>False</td>\n",
       "      <td>True</td>\n",
       "      <td>plus</td>\n",
       "      <td>June 2018</td>\n",
       "      <td>{'Condition': 'Reconditioned', 'Part or Access...</td>\n",
       "      <td>5d99b8e45a1bb318079da7a36392d9025e1644cb49ecbf...</td>\n",
       "    </tr>\n",
       "    <tr>\n",
       "      <th>2</th>\n",
       "      <td>Axio 165 / 161 Head light  in Kotte | ikman.lk</td>\n",
       "      <td>Imported from Japan \\n\\nAuto focus headlight a...</td>\n",
       "      <td>NaN</td>\n",
       "      <td>axio-165-161-head-light-for-sale-colombo</td>\n",
       "      <td>Axio 165 / 161 Head light</td>\n",
       "      <td>for_sale</td>\n",
       "      <td>Rs 85,000</td>\n",
       "      <td>01 Dec 8:27 pm</td>\n",
       "      <td>2022-12-01T20:27:49+05:30</td>\n",
       "      <td>2022-03-31T14:03:57.000Z</td>\n",
       "      <td>...</td>\n",
       "      <td>False</td>\n",
       "      <td>False</td>\n",
       "      <td>True</td>\n",
       "      <td>False</td>\n",
       "      <td>False</td>\n",
       "      <td>True</td>\n",
       "      <td>plus</td>\n",
       "      <td>June 2018</td>\n",
       "      <td>{'Condition': 'Reconditioned', 'Part or Access...</td>\n",
       "      <td>5d99b8e45a1bb318079da7a36392d9025e1644cb49ecbf...</td>\n",
       "    </tr>\n",
       "    <tr>\n",
       "      <th>3</th>\n",
       "      <td>Vigo side step ( Foot board)  in Kottawa | ikman</td>\n",
       "      <td>Hilux Vigo side step\\nBrand New Thaiwan\\nGood ...</td>\n",
       "      <td>NaN</td>\n",
       "      <td>vigo-side-step-foot-board-for-sale-colombo</td>\n",
       "      <td>Vigo side step ( Foot board)</td>\n",
       "      <td>for_sale</td>\n",
       "      <td>Rs 47,000</td>\n",
       "      <td>04 Dec 2:47 pm</td>\n",
       "      <td>2022-12-04T14:47:27+05:30</td>\n",
       "      <td>2022-07-29T13:22:59.000Z</td>\n",
       "      <td>...</td>\n",
       "      <td>False</td>\n",
       "      <td>False</td>\n",
       "      <td>True</td>\n",
       "      <td>False</td>\n",
       "      <td>False</td>\n",
       "      <td>False</td>\n",
       "      <td>plus</td>\n",
       "      <td>February 2017</td>\n",
       "      <td>{'Condition': 'New', 'Part or Accessory Type':...</td>\n",
       "      <td>634d93e14a62d9de7b400ee3679ae1d5506f4252ff0580...</td>\n",
       "    </tr>\n",
       "    <tr>\n",
       "      <th>4</th>\n",
       "      <td>Vigo Dickey Door Garnish Cover  in Kottawa | i...</td>\n",
       "      <td>Hilux Vigo ( 2005, 2009 ) dickey door garnish set</td>\n",
       "      <td>NaN</td>\n",
       "      <td>vigo-dickey-door-garnish-cover-for-sale-colombo-1</td>\n",
       "      <td>Vigo Dickey Door Garnish Cover</td>\n",
       "      <td>for_sale</td>\n",
       "      <td>Rs 9,000</td>\n",
       "      <td>08 Dec 9:28 am</td>\n",
       "      <td>2022-12-08T09:28:04+05:30</td>\n",
       "      <td>2022-07-29T12:55:44.000Z</td>\n",
       "      <td>...</td>\n",
       "      <td>False</td>\n",
       "      <td>False</td>\n",
       "      <td>True</td>\n",
       "      <td>False</td>\n",
       "      <td>False</td>\n",
       "      <td>False</td>\n",
       "      <td>plus</td>\n",
       "      <td>February 2017</td>\n",
       "      <td>{'Condition': 'New', 'Part or Accessory Type':...</td>\n",
       "      <td>634d93e14a62d9de7b400ee3679ae1d5506f4252ff0580...</td>\n",
       "    </tr>\n",
       "  </tbody>\n",
       "</table>\n",
       "<p>5 rows × 26 columns</p>\n",
       "</div>"
      ],
      "text/plain": [
       "                                            ad_title  \\\n",
       "0     Nissan Tiida Alternator  in Maharagama | ikman   \n",
       "1              Axio 165 Tail Light  in Kotte | ikman   \n",
       "2     Axio 165 / 161 Head light  in Kotte | ikman.lk   \n",
       "3   Vigo side step ( Foot board)  in Kottawa | ikman   \n",
       "4  Vigo Dickey Door Garnish Cover  in Kottawa | i...   \n",
       "\n",
       "                                      ad_description details  \\\n",
       "0  **TISSA AUTO PARTS** Dealer of used Japanese m...     NaN   \n",
       "1  Imported from Japan \\n\\nRight side available \\...     NaN   \n",
       "2  Imported from Japan \\n\\nAuto focus headlight a...     NaN   \n",
       "3  Hilux Vigo side step\\nBrand New Thaiwan\\nGood ...     NaN   \n",
       "4  Hilux Vigo ( 2005, 2009 ) dickey door garnish set     NaN   \n",
       "\n",
       "                                                slug  \\\n",
       "0         nissan-tiida-alternator-for-sale-colombo-3   \n",
       "1            axio-165-tail-light-for-sale-colombo-14   \n",
       "2           axio-165-161-head-light-for-sale-colombo   \n",
       "3         vigo-side-step-foot-board-for-sale-colombo   \n",
       "4  vigo-dickey-door-garnish-cover-for-sale-colombo-1   \n",
       "\n",
       "                            title      type      price        timestamp  \\\n",
       "0         Nissan Tiida Alternator  for_sale  Rs 18,000  23 Feb 11:35 pm   \n",
       "1             Axio 165 Tail Light  for_sale  Rs 67,000   23 Feb 8:32 am   \n",
       "2       Axio 165 / 161 Head light  for_sale  Rs 85,000   01 Dec 8:27 pm   \n",
       "3    Vigo side step ( Foot board)  for_sale  Rs 47,000   04 Dec 2:47 pm   \n",
       "4  Vigo Dickey Door Garnish Cover  for_sale   Rs 9,000   08 Dec 9:28 am   \n",
       "\n",
       "                 posted_date         deactivation_date  ...  \\\n",
       "0  2023-02-23T23:35:10+05:30  2022-05-30T17:13:04.000Z  ...   \n",
       "1  2023-02-23T08:32:44+05:30  2022-03-31T16:27:59.000Z  ...   \n",
       "2  2022-12-01T20:27:49+05:30  2022-03-31T14:03:57.000Z  ...   \n",
       "3  2022-12-04T14:47:27+05:30  2022-07-29T13:22:59.000Z  ...   \n",
       "4  2022-12-08T09:28:04+05:30  2022-07-29T12:55:44.000Z  ...   \n",
       "\n",
       "  is_doorstep_delivery is_dsd_applicable is_member is_authorized_dealer  \\\n",
       "0                False             False      True                False   \n",
       "1                False             False      True                False   \n",
       "2                False             False      True                False   \n",
       "3                False             False      True                False   \n",
       "4                False             False      True                False   \n",
       "\n",
       "  is_featured_member  is_verified  membership_level    member_since  \\\n",
       "0              False         True           premium  September 2019   \n",
       "1              False         True              plus       June 2018   \n",
       "2              False         True              plus       June 2018   \n",
       "3              False        False              plus   February 2017   \n",
       "4              False        False              plus   February 2017   \n",
       "\n",
       "                                          properties  \\\n",
       "0  {'Condition': 'Reconditioned', 'Part or Access...   \n",
       "1  {'Condition': 'Reconditioned', 'Part or Access...   \n",
       "2  {'Condition': 'Reconditioned', 'Part or Access...   \n",
       "3  {'Condition': 'New', 'Part or Accessory Type':...   \n",
       "4  {'Condition': 'New', 'Part or Accessory Type':...   \n",
       "\n",
       "                                                user  \n",
       "0  a6681dea494390daa516a6d2bdcb36e08c318574a13413...  \n",
       "1  5d99b8e45a1bb318079da7a36392d9025e1644cb49ecbf...  \n",
       "2  5d99b8e45a1bb318079da7a36392d9025e1644cb49ecbf...  \n",
       "3  634d93e14a62d9de7b400ee3679ae1d5506f4252ff0580...  \n",
       "4  634d93e14a62d9de7b400ee3679ae1d5506f4252ff0580...  \n",
       "\n",
       "[5 rows x 26 columns]"
      ]
     },
     "execution_count": 4,
     "metadata": {},
     "output_type": "execute_result"
    }
   ],
   "source": [
    "df.head()"
   ]
  },
  {
   "cell_type": "code",
   "execution_count": 5,
   "id": "5cea45a9",
   "metadata": {},
   "outputs": [],
   "source": [
    "pd.pandas.set_option(\"display.max_columns\",None)\n",
    "pd.pandas.set_option(\"display.max_rows\",None)"
   ]
  },
  {
   "cell_type": "code",
   "execution_count": 6,
   "id": "e12594f5",
   "metadata": {},
   "outputs": [],
   "source": [
    "df2=df.copy()"
   ]
  },
  {
   "cell_type": "code",
   "execution_count": 7,
   "id": "7d3581ba",
   "metadata": {},
   "outputs": [
    {
     "data": {
      "text/html": [
       "<div>\n",
       "<style scoped>\n",
       "    .dataframe tbody tr th:only-of-type {\n",
       "        vertical-align: middle;\n",
       "    }\n",
       "\n",
       "    .dataframe tbody tr th {\n",
       "        vertical-align: top;\n",
       "    }\n",
       "\n",
       "    .dataframe thead th {\n",
       "        text-align: right;\n",
       "    }\n",
       "</style>\n",
       "<table border=\"1\" class=\"dataframe\">\n",
       "  <thead>\n",
       "    <tr style=\"text-align: right;\">\n",
       "      <th></th>\n",
       "      <th>ad_title</th>\n",
       "      <th>ad_description</th>\n",
       "      <th>details</th>\n",
       "      <th>slug</th>\n",
       "      <th>title</th>\n",
       "      <th>type</th>\n",
       "      <th>price</th>\n",
       "      <th>timestamp</th>\n",
       "      <th>posted_date</th>\n",
       "      <th>deactivation_date</th>\n",
       "      <th>category</th>\n",
       "      <th>parent_category</th>\n",
       "      <th>location</th>\n",
       "      <th>geo_region</th>\n",
       "      <th>area</th>\n",
       "      <th>is_delivery_free</th>\n",
       "      <th>is_doorstep_delivery</th>\n",
       "      <th>is_dsd_applicable</th>\n",
       "      <th>is_member</th>\n",
       "      <th>is_authorized_dealer</th>\n",
       "      <th>is_featured_member</th>\n",
       "      <th>is_verified</th>\n",
       "      <th>membership_level</th>\n",
       "      <th>member_since</th>\n",
       "      <th>properties</th>\n",
       "      <th>user</th>\n",
       "    </tr>\n",
       "  </thead>\n",
       "  <tbody>\n",
       "    <tr>\n",
       "      <th>0</th>\n",
       "      <td>Nissan Tiida Alternator  in Maharagama | ikman</td>\n",
       "      <td>**TISSA AUTO PARTS** Dealer of used Japanese m...</td>\n",
       "      <td>NaN</td>\n",
       "      <td>nissan-tiida-alternator-for-sale-colombo-3</td>\n",
       "      <td>Nissan Tiida Alternator</td>\n",
       "      <td>for_sale</td>\n",
       "      <td>Rs 18,000</td>\n",
       "      <td>23 Feb 11:35 pm</td>\n",
       "      <td>2023-02-23T23:35:10+05:30</td>\n",
       "      <td>2022-05-30T17:13:04.000Z</td>\n",
       "      <td>Auto Parts &amp; Accessories</td>\n",
       "      <td>Vehicles</td>\n",
       "      <td>Maharagama</td>\n",
       "      <td>LK-11</td>\n",
       "      <td>{'id': 1506, 'name': 'Colombo'}</td>\n",
       "      <td>False</td>\n",
       "      <td>False</td>\n",
       "      <td>False</td>\n",
       "      <td>True</td>\n",
       "      <td>False</td>\n",
       "      <td>False</td>\n",
       "      <td>True</td>\n",
       "      <td>premium</td>\n",
       "      <td>September 2019</td>\n",
       "      <td>{'Condition': 'Reconditioned', 'Part or Access...</td>\n",
       "      <td>a6681dea494390daa516a6d2bdcb36e08c318574a13413...</td>\n",
       "    </tr>\n",
       "  </tbody>\n",
       "</table>\n",
       "</div>"
      ],
      "text/plain": [
       "                                         ad_title  \\\n",
       "0  Nissan Tiida Alternator  in Maharagama | ikman   \n",
       "\n",
       "                                      ad_description details  \\\n",
       "0  **TISSA AUTO PARTS** Dealer of used Japanese m...     NaN   \n",
       "\n",
       "                                         slug                    title  \\\n",
       "0  nissan-tiida-alternator-for-sale-colombo-3  Nissan Tiida Alternator   \n",
       "\n",
       "       type      price        timestamp                posted_date  \\\n",
       "0  for_sale  Rs 18,000  23 Feb 11:35 pm  2023-02-23T23:35:10+05:30   \n",
       "\n",
       "          deactivation_date                  category parent_category  \\\n",
       "0  2022-05-30T17:13:04.000Z  Auto Parts & Accessories        Vehicles   \n",
       "\n",
       "     location geo_region                             area  is_delivery_free  \\\n",
       "0  Maharagama      LK-11  {'id': 1506, 'name': 'Colombo'}             False   \n",
       "\n",
       "   is_doorstep_delivery  is_dsd_applicable is_member is_authorized_dealer  \\\n",
       "0                 False              False      True                False   \n",
       "\n",
       "  is_featured_member  is_verified membership_level    member_since  \\\n",
       "0              False         True          premium  September 2019   \n",
       "\n",
       "                                          properties  \\\n",
       "0  {'Condition': 'Reconditioned', 'Part or Access...   \n",
       "\n",
       "                                                user  \n",
       "0  a6681dea494390daa516a6d2bdcb36e08c318574a13413...  "
      ]
     },
     "execution_count": 7,
     "metadata": {},
     "output_type": "execute_result"
    }
   ],
   "source": [
    "df2.head(1)"
   ]
  },
  {
   "cell_type": "markdown",
   "id": "333a9a10",
   "metadata": {},
   "source": [
    "# **=> DROP UNNESSESORY COLUMNS**"
   ]
  },
  {
   "cell_type": "code",
   "execution_count": 9,
   "id": "ba941f8f",
   "metadata": {},
   "outputs": [],
   "source": [
    "df2=df2.drop(columns=['title','ad_title','ad_description','slug','details','parent_category','is_delivery_free','is_doorstep_delivery','is_dsd_applicable','is_featured_member','is_authorized_dealer','user'],axis=1)"
   ]
  },
  {
   "cell_type": "code",
   "execution_count": 10,
   "id": "c7a79a08",
   "metadata": {},
   "outputs": [
    {
     "data": {
      "text/html": [
       "<div>\n",
       "<style scoped>\n",
       "    .dataframe tbody tr th:only-of-type {\n",
       "        vertical-align: middle;\n",
       "    }\n",
       "\n",
       "    .dataframe tbody tr th {\n",
       "        vertical-align: top;\n",
       "    }\n",
       "\n",
       "    .dataframe thead th {\n",
       "        text-align: right;\n",
       "    }\n",
       "</style>\n",
       "<table border=\"1\" class=\"dataframe\">\n",
       "  <thead>\n",
       "    <tr style=\"text-align: right;\">\n",
       "      <th></th>\n",
       "      <th>type</th>\n",
       "      <th>price</th>\n",
       "      <th>timestamp</th>\n",
       "      <th>posted_date</th>\n",
       "      <th>deactivation_date</th>\n",
       "      <th>category</th>\n",
       "      <th>location</th>\n",
       "      <th>geo_region</th>\n",
       "      <th>area</th>\n",
       "      <th>is_member</th>\n",
       "      <th>is_verified</th>\n",
       "      <th>membership_level</th>\n",
       "      <th>member_since</th>\n",
       "      <th>properties</th>\n",
       "    </tr>\n",
       "  </thead>\n",
       "  <tbody>\n",
       "    <tr>\n",
       "      <th>0</th>\n",
       "      <td>for_sale</td>\n",
       "      <td>Rs 18,000</td>\n",
       "      <td>23 Feb 11:35 pm</td>\n",
       "      <td>2023-02-23T23:35:10+05:30</td>\n",
       "      <td>2022-05-30T17:13:04.000Z</td>\n",
       "      <td>Auto Parts &amp; Accessories</td>\n",
       "      <td>Maharagama</td>\n",
       "      <td>LK-11</td>\n",
       "      <td>{'id': 1506, 'name': 'Colombo'}</td>\n",
       "      <td>True</td>\n",
       "      <td>True</td>\n",
       "      <td>premium</td>\n",
       "      <td>September 2019</td>\n",
       "      <td>{'Condition': 'Reconditioned', 'Part or Access...</td>\n",
       "    </tr>\n",
       "    <tr>\n",
       "      <th>1</th>\n",
       "      <td>for_sale</td>\n",
       "      <td>Rs 67,000</td>\n",
       "      <td>23 Feb 8:32 am</td>\n",
       "      <td>2023-02-23T08:32:44+05:30</td>\n",
       "      <td>2022-03-31T16:27:59.000Z</td>\n",
       "      <td>Auto Parts &amp; Accessories</td>\n",
       "      <td>Kotte</td>\n",
       "      <td>LK-11</td>\n",
       "      <td>{'id': 1506, 'name': 'Colombo'}</td>\n",
       "      <td>True</td>\n",
       "      <td>True</td>\n",
       "      <td>plus</td>\n",
       "      <td>June 2018</td>\n",
       "      <td>{'Condition': 'Reconditioned', 'Part or Access...</td>\n",
       "    </tr>\n",
       "    <tr>\n",
       "      <th>2</th>\n",
       "      <td>for_sale</td>\n",
       "      <td>Rs 85,000</td>\n",
       "      <td>01 Dec 8:27 pm</td>\n",
       "      <td>2022-12-01T20:27:49+05:30</td>\n",
       "      <td>2022-03-31T14:03:57.000Z</td>\n",
       "      <td>Auto Parts &amp; Accessories</td>\n",
       "      <td>Kotte</td>\n",
       "      <td>LK-11</td>\n",
       "      <td>{'id': 1506, 'name': 'Colombo'}</td>\n",
       "      <td>True</td>\n",
       "      <td>True</td>\n",
       "      <td>plus</td>\n",
       "      <td>June 2018</td>\n",
       "      <td>{'Condition': 'Reconditioned', 'Part or Access...</td>\n",
       "    </tr>\n",
       "    <tr>\n",
       "      <th>3</th>\n",
       "      <td>for_sale</td>\n",
       "      <td>Rs 47,000</td>\n",
       "      <td>04 Dec 2:47 pm</td>\n",
       "      <td>2022-12-04T14:47:27+05:30</td>\n",
       "      <td>2022-07-29T13:22:59.000Z</td>\n",
       "      <td>Auto Parts &amp; Accessories</td>\n",
       "      <td>Kottawa</td>\n",
       "      <td>LK-11</td>\n",
       "      <td>{'id': 1506, 'name': 'Colombo'}</td>\n",
       "      <td>True</td>\n",
       "      <td>False</td>\n",
       "      <td>plus</td>\n",
       "      <td>February 2017</td>\n",
       "      <td>{'Condition': 'New', 'Part or Accessory Type':...</td>\n",
       "    </tr>\n",
       "    <tr>\n",
       "      <th>4</th>\n",
       "      <td>for_sale</td>\n",
       "      <td>Rs 9,000</td>\n",
       "      <td>08 Dec 9:28 am</td>\n",
       "      <td>2022-12-08T09:28:04+05:30</td>\n",
       "      <td>2022-07-29T12:55:44.000Z</td>\n",
       "      <td>Auto Parts &amp; Accessories</td>\n",
       "      <td>Kottawa</td>\n",
       "      <td>LK-11</td>\n",
       "      <td>{'id': 1506, 'name': 'Colombo'}</td>\n",
       "      <td>True</td>\n",
       "      <td>False</td>\n",
       "      <td>plus</td>\n",
       "      <td>February 2017</td>\n",
       "      <td>{'Condition': 'New', 'Part or Accessory Type':...</td>\n",
       "    </tr>\n",
       "  </tbody>\n",
       "</table>\n",
       "</div>"
      ],
      "text/plain": [
       "       type      price        timestamp                posted_date  \\\n",
       "0  for_sale  Rs 18,000  23 Feb 11:35 pm  2023-02-23T23:35:10+05:30   \n",
       "1  for_sale  Rs 67,000   23 Feb 8:32 am  2023-02-23T08:32:44+05:30   \n",
       "2  for_sale  Rs 85,000   01 Dec 8:27 pm  2022-12-01T20:27:49+05:30   \n",
       "3  for_sale  Rs 47,000   04 Dec 2:47 pm  2022-12-04T14:47:27+05:30   \n",
       "4  for_sale   Rs 9,000   08 Dec 9:28 am  2022-12-08T09:28:04+05:30   \n",
       "\n",
       "          deactivation_date                  category    location geo_region  \\\n",
       "0  2022-05-30T17:13:04.000Z  Auto Parts & Accessories  Maharagama      LK-11   \n",
       "1  2022-03-31T16:27:59.000Z  Auto Parts & Accessories       Kotte      LK-11   \n",
       "2  2022-03-31T14:03:57.000Z  Auto Parts & Accessories       Kotte      LK-11   \n",
       "3  2022-07-29T13:22:59.000Z  Auto Parts & Accessories     Kottawa      LK-11   \n",
       "4  2022-07-29T12:55:44.000Z  Auto Parts & Accessories     Kottawa      LK-11   \n",
       "\n",
       "                              area is_member  is_verified membership_level  \\\n",
       "0  {'id': 1506, 'name': 'Colombo'}      True         True          premium   \n",
       "1  {'id': 1506, 'name': 'Colombo'}      True         True             plus   \n",
       "2  {'id': 1506, 'name': 'Colombo'}      True         True             plus   \n",
       "3  {'id': 1506, 'name': 'Colombo'}      True        False             plus   \n",
       "4  {'id': 1506, 'name': 'Colombo'}      True        False             plus   \n",
       "\n",
       "     member_since                                         properties  \n",
       "0  September 2019  {'Condition': 'Reconditioned', 'Part or Access...  \n",
       "1       June 2018  {'Condition': 'Reconditioned', 'Part or Access...  \n",
       "2       June 2018  {'Condition': 'Reconditioned', 'Part or Access...  \n",
       "3   February 2017  {'Condition': 'New', 'Part or Accessory Type':...  \n",
       "4   February 2017  {'Condition': 'New', 'Part or Accessory Type':...  "
      ]
     },
     "execution_count": 10,
     "metadata": {},
     "output_type": "execute_result"
    }
   ],
   "source": [
    "df2.head()"
   ]
  },
  {
   "cell_type": "code",
   "execution_count": 11,
   "id": "42791b68",
   "metadata": {},
   "outputs": [
    {
     "data": {
      "text/plain": [
       "(258888, 14)"
      ]
     },
     "execution_count": 11,
     "metadata": {},
     "output_type": "execute_result"
    }
   ],
   "source": [
    "df2.shape"
   ]
  },
  {
   "cell_type": "markdown",
   "id": "b3f846a7",
   "metadata": {},
   "source": [
    "# **=> convert price datatype into float**"
   ]
  },
  {
   "cell_type": "code",
   "execution_count": 13,
   "id": "1394c037",
   "metadata": {},
   "outputs": [],
   "source": [
    "# Remove 'Rs' and commas from 'price', then convert to float\n",
    "import numpy as np\n",
    "df2['price'] = df2['price'].astype(str)\n",
    "df2['price'] = df2['price'].str.replace('Rs', '', regex=False).str.replace(',', '', regex=False)"
   ]
  },
  {
   "cell_type": "code",
   "execution_count": 14,
   "id": "3885418a",
   "metadata": {},
   "outputs": [],
   "source": [
    "df2['price'] = df2['price'].apply(lambda x: np.nan if x == 'Negotiable' else float(x))"
   ]
  },
  {
   "cell_type": "markdown",
   "id": "250c692b",
   "metadata": {},
   "source": [
    "# **=> find out ad's period**"
   ]
  },
  {
   "cell_type": "code",
   "execution_count": 16,
   "id": "8f32ecb7",
   "metadata": {},
   "outputs": [],
   "source": [
    "# Convert columns to datetime format\n",
    "df2['posted_date'] = pd.to_datetime(df2['posted_date'])\n",
    "df2['deactivation_date'] = pd.to_datetime(df2['deactivation_date'])\n",
    "\n",
    "# Calculate date difference -- ignore time\n",
    "df2['date_diff'] = (df2['deactivation_date'] - df2['posted_date']).dt.days\n"
   ]
  },
  {
   "cell_type": "code",
   "execution_count": 17,
   "id": "38eb7208",
   "metadata": {},
   "outputs": [],
   "source": [
    "list = [i for i in df2['date_diff'] if i < 0]"
   ]
  },
  {
   "cell_type": "code",
   "execution_count": 18,
   "id": "b454abdf",
   "metadata": {},
   "outputs": [
    {
     "data": {
      "text/plain": [
       "16970"
      ]
     },
     "execution_count": 18,
     "metadata": {},
     "output_type": "execute_result"
    }
   ],
   "source": [
    "len(list)"
   ]
  },
  {
   "cell_type": "code",
   "execution_count": 19,
   "id": "412cef02",
   "metadata": {},
   "outputs": [],
   "source": [
    "index_names = df2[df2['date_diff'] < 0].index\n",
    "df2.drop(index_names, inplace=True)"
   ]
  },
  {
   "cell_type": "code",
   "execution_count": 20,
   "id": "26e0aaa6",
   "metadata": {},
   "outputs": [
    {
     "data": {
      "text/plain": [
       "(241918, 15)"
      ]
     },
     "execution_count": 20,
     "metadata": {},
     "output_type": "execute_result"
    }
   ],
   "source": [
    "df2.shape"
   ]
  },
  {
   "cell_type": "markdown",
   "id": "626098f7",
   "metadata": {},
   "source": [
    "# **=> extract members year**"
   ]
  },
  {
   "cell_type": "code",
   "execution_count": 21,
   "id": "918f649f",
   "metadata": {},
   "outputs": [],
   "source": [
    "# Assuming df2 is your DataFrame\n",
    "df2['member_since'] = df2['member_since'].str.extract(r'(\\d{4})', expand=False)"
   ]
  },
  {
   "cell_type": "markdown",
   "id": "fcf22e6a",
   "metadata": {},
   "source": [
    "# **=> Convert member since into int**"
   ]
  },
  {
   "cell_type": "code",
   "execution_count": 22,
   "id": "0c4013ec",
   "metadata": {},
   "outputs": [
    {
     "data": {
      "text/plain": [
       "149895"
      ]
     },
     "execution_count": 22,
     "metadata": {},
     "output_type": "execute_result"
    }
   ],
   "source": [
    "df2['member_since'].isnull().sum()"
   ]
  },
  {
   "cell_type": "code",
   "execution_count": 23,
   "id": "015775e3",
   "metadata": {},
   "outputs": [],
   "source": [
    "# as the column 'member_since' contain 149895 null values ==> dropping the column will be aa good decision"
   ]
  },
  {
   "cell_type": "code",
   "execution_count": 24,
   "id": "c18dc095",
   "metadata": {},
   "outputs": [],
   "source": [
    "df2=df2.drop(columns=['member_since'],axis=1)"
   ]
  },
  {
   "cell_type": "markdown",
   "id": "d7b44832",
   "metadata": {},
   "source": [
    "# **=> drop null values**"
   ]
  },
  {
   "cell_type": "code",
   "execution_count": 25,
   "id": "6efe1d8b",
   "metadata": {},
   "outputs": [],
   "source": [
    "# Handle missing values\n",
    "df2 = df2.dropna(subset=['type', 'price', 'timestamp', 'posted_date', 'deactivation_date',\n",
    "       'category', 'location', 'geo_region', 'area', 'is_member',\n",
    "       'is_verified', 'membership_level', 'properties',\n",
    "       'date_diff'])"
   ]
  },
  {
   "cell_type": "code",
   "execution_count": 26,
   "id": "6062f19f",
   "metadata": {},
   "outputs": [
    {
     "data": {
      "text/plain": [
       "(228475, 14)"
      ]
     },
     "execution_count": 26,
     "metadata": {},
     "output_type": "execute_result"
    }
   ],
   "source": [
    "df2.shape"
   ]
  },
  {
   "cell_type": "code",
   "execution_count": 27,
   "id": "f04e4ff5",
   "metadata": {},
   "outputs": [
    {
     "data": {
      "text/plain": [
       "<bound method NDFrame._add_numeric_operations.<locals>.sum of type                 0\n",
       "price                0\n",
       "timestamp            0\n",
       "posted_date          0\n",
       "deactivation_date    0\n",
       "category             0\n",
       "location             0\n",
       "geo_region           0\n",
       "area                 0\n",
       "is_member            0\n",
       "is_verified          0\n",
       "membership_level     0\n",
       "properties           0\n",
       "date_diff            0\n",
       "dtype: int64>"
      ]
     },
     "execution_count": 27,
     "metadata": {},
     "output_type": "execute_result"
    }
   ],
   "source": [
    "df2.isnull().sum().sum"
   ]
  },
  {
   "cell_type": "code",
   "execution_count": 28,
   "id": "aefd6396",
   "metadata": {},
   "outputs": [
    {
     "name": "stdout",
     "output_type": "stream",
     "text": [
      "<class 'pandas.core.frame.DataFrame'>\n",
      "Index: 228475 entries, 7590 to 258887\n",
      "Data columns (total 14 columns):\n",
      " #   Column             Non-Null Count   Dtype                    \n",
      "---  ------             --------------   -----                    \n",
      " 0   type               228475 non-null  object                   \n",
      " 1   price              228475 non-null  float64                  \n",
      " 2   timestamp          228475 non-null  object                   \n",
      " 3   posted_date        228475 non-null  datetime64[ns, UTC+05:30]\n",
      " 4   deactivation_date  228475 non-null  datetime64[ns, UTC]      \n",
      " 5   category           228475 non-null  object                   \n",
      " 6   location           228475 non-null  object                   \n",
      " 7   geo_region         228475 non-null  object                   \n",
      " 8   area               228475 non-null  object                   \n",
      " 9   is_member          228475 non-null  object                   \n",
      " 10  is_verified        228475 non-null  bool                     \n",
      " 11  membership_level   228475 non-null  object                   \n",
      " 12  properties         228475 non-null  object                   \n",
      " 13  date_diff          228475 non-null  float64                  \n",
      "dtypes: bool(1), datetime64[ns, UTC+05:30](1), datetime64[ns, UTC](1), float64(2), object(9)\n",
      "memory usage: 24.6+ MB\n"
     ]
    }
   ],
   "source": [
    "df2.info()"
   ]
  },
  {
   "cell_type": "markdown",
   "id": "87c9b640",
   "metadata": {},
   "source": [
    "# **=> Brand from properties**"
   ]
  },
  {
   "cell_type": "code",
   "execution_count": 30,
   "id": "c29ce7e2",
   "metadata": {},
   "outputs": [],
   "source": [
    "import ast\n",
    "dict_df=df2[\"properties\"].apply(pd.Series)"
   ]
  },
  {
   "cell_type": "code",
   "execution_count": 31,
   "id": "55493d4f",
   "metadata": {},
   "outputs": [
    {
     "data": {
      "text/plain": [
       "7590    {'Brand': 'Nissan', 'Model': 'Patrol', 'Trim /...\n",
       "7606    {'Brand': 'Toyota', 'Model': 'Camry', 'Trim / ...\n",
       "7623    {'Brand': 'Toyota', 'Model': 'Aqua', 'Trim / E...\n",
       "7638    {'Brand': 'Mercedes Benz', 'Model': 'E350', 'T...\n",
       "7639    {'Brand': 'Mitsubishi', 'Model': 'L200', 'Trim...\n",
       "Name: properties, dtype: object"
      ]
     },
     "execution_count": 31,
     "metadata": {},
     "output_type": "execute_result"
    }
   ],
   "source": [
    "df2['properties'].head()"
   ]
  },
  {
   "cell_type": "code",
   "execution_count": 32,
   "id": "09192820",
   "metadata": {},
   "outputs": [
    {
     "name": "stdout",
     "output_type": "stream",
     "text": [
      "{'Brand': 'Toyota', 'Model': 'Aqua', 'Trim / Edition': 'Toyota', 'Year of Manufacture': '2012', 'Condition': 'Used', 'Transmission': 'Automatic', 'Body type': 'Hatchback', 'Fuel type': 'Hybrid', 'Engine capacity': '1,500 cc', 'Mileage': '177,000 km'}\n"
     ]
    }
   ],
   "source": [
    "dict_converted = ast.literal_eval(dict_df.iloc[2][0])\n",
    "print(dict_converted)"
   ]
  },
  {
   "cell_type": "code",
   "execution_count": 33,
   "id": "449ff1a3",
   "metadata": {},
   "outputs": [],
   "source": [
    "Brand=[]\n",
    "for i in range(dict_df.shape[0]):\n",
    "    dict_converted = ast.literal_eval(dict_df.iloc[i][0])\n",
    "\n",
    "    if 'Brand' not in dict_converted:\n",
    "        Brand.append('NaN')\n",
    "    else:\n",
    "        Brand.append(dict_converted['Brand'])"
   ]
  },
  {
   "cell_type": "code",
   "execution_count": 34,
   "id": "d145ec1d",
   "metadata": {},
   "outputs": [],
   "source": [
    "df2['Brand'] = Brand"
   ]
  },
  {
   "cell_type": "code",
   "execution_count": 35,
   "id": "8c7affde",
   "metadata": {},
   "outputs": [
    {
     "data": {
      "text/plain": [
       "(228475, 15)"
      ]
     },
     "execution_count": 35,
     "metadata": {},
     "output_type": "execute_result"
    }
   ],
   "source": [
    "df2.shape"
   ]
  },
  {
   "cell_type": "code",
   "execution_count": 36,
   "id": "5b3a7795",
   "metadata": {},
   "outputs": [],
   "source": [
    "#  Replace NaN VALUE with actual numpy nana value\n",
    "df2['Brand'].replace('NaN', np.nan, inplace=True)"
   ]
  },
  {
   "cell_type": "code",
   "execution_count": 37,
   "id": "675dbd8e",
   "metadata": {},
   "outputs": [
    {
     "data": {
      "text/plain": [
       "50296"
      ]
     },
     "execution_count": 37,
     "metadata": {},
     "output_type": "execute_result"
    }
   ],
   "source": [
    "df2['Brand'].isnull().sum()"
   ]
  },
  {
   "cell_type": "code",
   "execution_count": 38,
   "id": "c323e1a8",
   "metadata": {},
   "outputs": [],
   "source": [
    "# Remove rows with NaN values in the 'Brand' column\n",
    "df2 = df2.dropna(subset=['Brand'])"
   ]
  },
  {
   "cell_type": "code",
   "execution_count": 39,
   "id": "b4ed13f8",
   "metadata": {},
   "outputs": [
    {
     "data": {
      "text/plain": [
       "(178179, 15)"
      ]
     },
     "execution_count": 39,
     "metadata": {},
     "output_type": "execute_result"
    }
   ],
   "source": [
    "df2.shape"
   ]
  },
  {
   "cell_type": "code",
   "execution_count": 40,
   "id": "d3b6d103",
   "metadata": {},
   "outputs": [],
   "source": [
    "#  Removes rows\n",
    "brand_counts = df2['Brand'].value_counts()\n",
    "df2 = df2[df2['Brand'].isin(brand_counts[brand_counts >= 1000].index)]"
   ]
  },
  {
   "cell_type": "code",
   "execution_count": 41,
   "id": "4a791645",
   "metadata": {},
   "outputs": [
    {
     "data": {
      "text/plain": [
       "Brand\n",
       "Bajaj            36240\n",
       "Toyota           21277\n",
       "Honda            20967\n",
       "Suzuki           12500\n",
       "Yamaha            8542\n",
       "TVS               8352\n",
       "Nissan            7822\n",
       "Hero              6921\n",
       "Other             5166\n",
       "Mitsubishi        5075\n",
       "Other brand       4915\n",
       "Tata              3658\n",
       "Mahindra          2612\n",
       "Isuzu             2329\n",
       "Lumala            1815\n",
       "BMW               1543\n",
       "Demak             1529\n",
       "Mazda             1527\n",
       "Mercedes Benz     1471\n",
       "Daihatsu          1305\n",
       "Micro             1267\n",
       "Tomahawk          1178\n",
       "Kia               1139\n",
       "Hyundai           1128\n",
       "Name: count, dtype: int64"
      ]
     },
     "execution_count": 41,
     "metadata": {},
     "output_type": "execute_result"
    }
   ],
   "source": [
    "df2['Brand'].value_counts()"
   ]
  },
  {
   "cell_type": "markdown",
   "id": "d22a219b",
   "metadata": {},
   "source": [
    "# **=> Encode categorical variables**"
   ]
  },
  {
   "cell_type": "code",
   "execution_count": 43,
   "id": "ee91778a",
   "metadata": {},
   "outputs": [],
   "source": [
    "from sklearn.preprocessing import LabelEncoder, StandardScaler"
   ]
  },
  {
   "cell_type": "code",
   "execution_count": 44,
   "id": "33fc50b3",
   "metadata": {},
   "outputs": [],
   "source": [
    "\n",
    "label_encoder = LabelEncoder()\n",
    "df2['category'] = label_encoder.fit_transform(df2['category'])\n",
    "df2['is_member'] = label_encoder.fit_transform(df2['is_member'])\n",
    "df2['location'] = label_encoder.fit_transform(df2['location'])\n",
    "df2['geo_region'] = label_encoder.fit_transform(df2['geo_region'])\n",
    "df2['area'] = label_encoder.fit_transform(df2['area'])\n",
    "df2['Brand'] = label_encoder.fit_transform(df2['Brand'])\n",
    "df2['is_verified'] = label_encoder.fit_transform(df2['is_verified'])\n",
    "df2['membership_level'] = label_encoder.fit_transform(df2['membership_level'])"
   ]
  },
  {
   "cell_type": "markdown",
   "id": "a2b5e282",
   "metadata": {},
   "source": [
    "# **FEATURE SELECTION**\n",
    "1. PCA\n",
    "2. Perform PCA with full number of components\n",
    "3. Determine the number of principal components to retain\n",
    "FEATURE SELECTION\n",
    "PCA\n",
    "Perform PCA with full number of components\n",
    "Determine the number of principal components to retain"
   ]
  },
  {
   "cell_type": "code",
   "execution_count": 47,
   "id": "b7fee69e",
   "metadata": {},
   "outputs": [],
   "source": [
    "from sklearn.decomposition import PCA"
   ]
  },
  {
   "cell_type": "code",
   "execution_count": 48,
   "id": "c05d898f",
   "metadata": {},
   "outputs": [],
   "source": [
    "# Feature Selection\n",
    "# Use PCA to reduce dimensionality\n",
    "num_col = df2.select_dtypes(include=['int32', 'float64']).columns\n",
    "X = df2[num_col]\n",
    "scaler = StandardScaler()\n",
    "X_scaled = scaler.fit_transform(X)"
   ]
  },
  {
   "cell_type": "code",
   "execution_count": 49,
   "id": "a4da6747",
   "metadata": {},
   "outputs": [
    {
     "name": "stdout",
     "output_type": "stream",
     "text": [
      "Explained Variance Ratio: [0.25891455 0.14922688 0.13116027 0.11127296 0.10531967 0.09611571\n",
      " 0.07283808 0.07102936 0.00412252]\n"
     ]
    }
   ],
   "source": [
    "# Perform PCA with full number of components\n",
    "pca = PCA()\n",
    "pca.fit(X_scaled)\n",
    "explained_variance_ratio = pca.explained_variance_ratio_\n",
    "print(f\"Explained Variance Ratio: {explained_variance_ratio}\")"
   ]
  },
  {
   "cell_type": "code",
   "execution_count": 50,
   "id": "a06839dc",
   "metadata": {},
   "outputs": [
    {
     "name": "stdout",
     "output_type": "stream",
     "text": [
      "Number of principal components retained: 8\n"
     ]
    }
   ],
   "source": [
    "# Determine the number of principal components to retain\n",
    "cumulative_variance = np.cumsum(explained_variance_ratio)\n",
    "n_components_retained = np.argmax(cumulative_variance >= 0.98) + 1\n",
    "print(f\"Number of principal components retained: {n_components_retained}\")"
   ]
  },
  {
   "cell_type": "code",
   "execution_count": 51,
   "id": "1ea733f2",
   "metadata": {},
   "outputs": [],
   "source": [
    "# Transform the data using the retained principal components\n",
    "X_pca = X_scaled @ pca.components_[:n_components_retained].T"
   ]
  },
  {
   "cell_type": "code",
   "execution_count": 52,
   "id": "24793507",
   "metadata": {},
   "outputs": [
    {
     "data": {
      "text/plain": [
       "array([[ 0.0353572 ,  4.96848746,  1.99157349, ..., -2.76858256,\n",
       "        -0.32760652,  0.97707762],\n",
       "       [-1.89099515,  4.03071312, -1.69604846, ..., -4.46528739,\n",
       "        -0.52157176,  0.50130813],\n",
       "       [-0.2033449 ,  5.11731486,  0.18123619, ..., -2.9665569 ,\n",
       "         0.54854799, -0.01543168],\n",
       "       ...,\n",
       "       [ 0.16458598,  1.71244637,  1.4434675 , ..., -0.1136302 ,\n",
       "        -0.66205808, -0.29529678],\n",
       "       [ 2.96054406,  0.42771735,  0.72207595, ..., -0.78560434,\n",
       "        -0.65238461, -0.40120885],\n",
       "       [-1.05749156,  0.50918443,  0.51252399, ..., -1.04345899,\n",
       "         1.88169622, -0.92867389]])"
      ]
     },
     "execution_count": 52,
     "metadata": {},
     "output_type": "execute_result"
    }
   ],
   "source": [
    "X_pca\n"
   ]
  },
  {
   "cell_type": "code",
   "execution_count": 53,
   "id": "f61c5ae8",
   "metadata": {},
   "outputs": [],
   "source": [
    "# PCA\n",
    "# Perform PCA with full number of components\n",
    "pca = PCA()\n",
    "pca.fit(X_scaled)\n",
    "\n",
    "# Determine the number of principal components to retain\n",
    "explained_variance_ratio = pca.explained_variance_ratio_\n",
    "cumulative_variance = np.cumsum(explained_variance_ratio)\n",
    "n_components_retained = np.argmax(cumulative_variance >= 0.98) + 1\n",
    "\n",
    "# Transform the data using the retained principal components\n",
    "X_pca = X_scaled @ pca.components_[:n_components_retained].T\n",
    "\n",
    "# Your code is correct. You have performed PCA with the full number of components, determined the number of principal components to retain based on a desired cumulative variance threshold (98% in this case), and transformed the data using the retained principal components."
   ]
  },
  {
   "cell_type": "code",
   "execution_count": 54,
   "id": "c00bdaaa",
   "metadata": {},
   "outputs": [],
   "source": [
    "# # Split data into training and testing sets\n",
    "# X_train, X_test, y_train, y_test = train_test_split(X, y, test_size=0.2, random_state=42)\n",
    "\n",
    "# # Define the range of possible numbers of components\n",
    "# n_components = range(1, 11)\n",
    "\n",
    "# # Initialize lists to store the performance metrics\n",
    "# reconstruction_errors = []\n",
    "# explained_variance_ratios = []\n",
    "\n",
    "# for n in n_components:\n",
    "#     pca = PCA(n_components=n)\n",
    "#     X_pca = pca.fit_transform(X_train)\n",
    "#     X_reconstructed = pca.inverse_transform(X_pca)\n",
    "\n",
    "#     # Calculate reconstruction error\n",
    "#     reconstruction_error = np.mean((X_train - X_reconstructed) ** 2)\n",
    "#     reconstruction_errors.append(reconstruction_error)\n",
    "\n",
    "#     # Calculate explained variance ratio\n",
    "#     explained_variance_ratio = pca.explained_variance_ratio_.sum()\n",
    "#     explained_variance_ratios.append(explained_variance_ratio)\n",
    "\n",
    "# # Perform cross-validation\n",
    "# k = 5\n",
    "# scores_reconstruction = []\n",
    "# scores_explained_variance = []\n",
    "\n",
    "# for n in n_components:\n",
    "#     scores_reconstruction.append(cross_val_score(PCA(n_components=n), X_train, cv=k, scoring='neg_mean_squared_error'))\n",
    "#     scores_explained_variance.append(cross_val_score(PCA(n_components=n), X_train, cv=k, scoring='explained_variance_ratio'))\n",
    "\n",
    "# # Plot the results\n",
    "# import matplotlib.pyplot as plt\n",
    "\n",
    "# plt.plot(n_components, reconstruction_errors)\n",
    "# plt.xlabel('Number of Components')\n",
    "# plt.ylabel('Reconstruction Error')\n",
    "# plt.title('Reconstruction Error vs. Number of Components')\n",
    "# plt.show()\n",
    "\n",
    "# plt.plot(n_components, explained_variance_ratios)\n",
    "# plt.xlabel('Number of Components')\n",
    "# plt.ylabel('Explained Variance Ratio')\n",
    "# plt.title('Explained Variance Ratio vs. Number of Components')\n",
    "# plt.show()"
   ]
  },
  {
   "cell_type": "code",
   "execution_count": null,
   "id": "b298df73",
   "metadata": {},
   "outputs": [
    {
     "name": "stderr",
     "output_type": "stream",
     "text": [
      "C:\\Users\\DELL\\anaconda3\\Lib\\site-packages\\sklearn\\cluster\\_kmeans.py:870: FutureWarning: The default value of `n_init` will change from 10 to 'auto' in 1.4. Set the value of `n_init` explicitly to suppress the warning\n",
      "  warnings.warn(\n",
      "C:\\Users\\DELL\\anaconda3\\Lib\\site-packages\\sklearn\\cluster\\_kmeans.py:870: FutureWarning: The default value of `n_init` will change from 10 to 'auto' in 1.4. Set the value of `n_init` explicitly to suppress the warning\n",
      "  warnings.warn(\n",
      "C:\\Users\\DELL\\anaconda3\\Lib\\site-packages\\sklearn\\cluster\\_kmeans.py:870: FutureWarning: The default value of `n_init` will change from 10 to 'auto' in 1.4. Set the value of `n_init` explicitly to suppress the warning\n",
      "  warnings.warn(\n"
     ]
    }
   ],
   "source": [
    "# Clustering\n",
    "# Apply K-means clustering\n",
    "from sklearn.cluster import KMeans\n",
    "from sklearn.metrics import silhouette_score, calinski_harabasz_score, davies_bouldin_score\n",
    "\n",
    "sil_scores = []\n",
    "ch_scores = []\n",
    "db_scores = []\n",
    "for n_clusters in range(2, 11):\n",
    "    kmeans = KMeans(n_clusters=n_clusters, random_state=42)\n",
    "    labels = kmeans.fit_predict(X_pca)\n",
    "    sil_score = silhouette_score(X_pca, labels)\n",
    "    ch_score = calinski_harabasz_score(X_pca, labels)\n",
    "    db_score = davies_bouldin_score(X_pca, labels)\n",
    "    sil_scores.append(sil_score)\n",
    "    ch_scores.append(ch_score)\n",
    "    db_scores.append(db_score)"
   ]
  },
  {
   "cell_type": "code",
   "execution_count": null,
   "id": "58006571",
   "metadata": {},
   "outputs": [],
   "source": [
    "# Elbow method to determine the optimal number of clusters\n",
    "plt.figure(figsize=(8, 6))\n",
    "plt.plot(range(2, 11), sil_scores, label='Silhouette Score')\n",
    "plt.plot(range(2, 11), ch_scores, label='Calinski-Harabasz Score')\n",
    "plt.plot(range(2, 11), db_scores, label='Davies-Bouldin Score')\n",
    "plt.xlabel('Number of clusters')\n",
    "plt.ylabel('Score')\n",
    "plt.title('Elbow Method')\n",
    "plt.legend()\n",
    "plt.show()"
   ]
  },
  {
   "cell_type": "code",
   "execution_count": null,
   "id": "495341dc",
   "metadata": {},
   "outputs": [],
   "source": [
    "# Select the optimal number of clusters based on the Elbow method\n",
    "optimal_clusters = sil_scores.index(max(sil_scores)) + 2\n",
    "print(f\"Optimal number of clusters: {optimal_clusters}\")"
   ]
  },
  {
   "cell_type": "code",
   "execution_count": null,
   "id": "134fefa6",
   "metadata": {},
   "outputs": [],
   "source": [
    "# Apply K-means with the optimal number of clusters\n",
    "kmeans = KMeans(n_clusters=optimal_clusters, random_state=42)\n",
    "labels = kmeans.fit_predict(X_pca)\n"
   ]
  },
  {
   "cell_type": "code",
   "execution_count": null,
   "id": "9d0f5798",
   "metadata": {},
   "outputs": [],
   "source": [
    "df2['cluster'] = labels"
   ]
  },
  {
   "cell_type": "code",
   "execution_count": null,
   "id": "e94fb0a3",
   "metadata": {},
   "outputs": [],
   "source": [
    "# Cluster Analysis\n",
    "# Visualize the clusters\n",
    "plt.figure(figsize=(10, 8))\n",
    "plt.scatter(X_pca[:, 0], X_pca[:, 1], c=df2['cluster'], cmap='viridis')\n",
    "plt.xlabel('Principal Component 1')\n",
    "plt.ylabel('Principal Component 2')\n",
    "plt.title('Clusters')\n",
    "plt.show()"
   ]
  },
  {
   "cell_type": "code",
   "execution_count": null,
   "id": "ab6bab9c",
   "metadata": {},
   "outputs": [],
   "source": [
    "# Describe the characteristics of each cluster\n",
    "for cluster in range(optimal_clusters):\n",
    "    print(f\"Cluster {cluster}:\")\n",
    "    print(df2[df2['cluster'] == cluster].describe())\n",
    "    print()"
   ]
  },
  {
   "cell_type": "code",
   "execution_count": null,
   "id": "eb26471c",
   "metadata": {},
   "outputs": [],
   "source": []
  }
 ],
 "metadata": {
  "kernelspec": {
   "display_name": "Python 3 (ipykernel)",
   "language": "python",
   "name": "python3"
  },
  "language_info": {
   "codemirror_mode": {
    "name": "ipython",
    "version": 3
   },
   "file_extension": ".py",
   "mimetype": "text/x-python",
   "name": "python",
   "nbconvert_exporter": "python",
   "pygments_lexer": "ipython3",
   "version": "3.11.5"
  }
 },
 "nbformat": 4,
 "nbformat_minor": 5
}
